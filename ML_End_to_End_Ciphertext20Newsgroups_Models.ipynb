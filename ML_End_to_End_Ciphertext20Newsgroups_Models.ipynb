{
 "cells": [
  {
   "cell_type": "markdown",
   "metadata": {},
   "source": [
    "# Feature Analysis and Modeling"
   ]
  },
  {
   "cell_type": "markdown",
   "metadata": {},
   "source": [
    "# 20Ciphers_Newsgroups\n",
    "\n",
    "### Overview\n",
    "\n",
    "Source : https://www.kaggle.com/competitions/20-newsgroups-ciphertext-challenge/overview <br>\n",
    "original dataset :http://qwone.com/~jason/20Newsgroups/\n",
    "\n",
    "* Firstly, it’s all about encryption which means converting readable text to unreadable text.\n",
    "* The Ciphertext challenge is to find the unreadable text belongs to which group?\n",
    "* Now what are all the groups? There are 20News groups (20 classes) dataset having a 20000 newsgroup documents.\n",
    "* This Problem is a multiclass classification problem.\n",
    "* This problem is not about decrypting the given ciphertext\n",
    "\n",
    "### Problem Statement\n",
    "classification of ciphertexts are belongs to respective Newsgroups (classes)\n",
    "\n",
    "20ciphers_Newsgroups consists of ciphertexts <br>\n",
    "\n",
    "train_dataset consists of :<br> \n",
    "* Ciphertext : An encrypted text of a readable text <br>\n",
    "* ID         : A unique ID for each ciphertext <br>\n",
    "* Target     : 20 news groups are present, each ciphertext are belongs to one of the news groups <br>\n",
    "\n",
    "Test_dataset consists of : <br>\n",
    "* Ciphertext : An encrypted text of a readable text <br>\n",
    "* ID         : A unique ID for each ciphertext <br>                               \n",
    "\n",
    "We need to classify the Target group for given test_dataset ciphertexts.\n",
    "\n",
    "### what is the use?\n",
    "* By just using ML classification techniques we are able to classify Newsgroups without using any cryptographh algorithms\n",
    "* we don't need to use cryptography algorithms to predict the groups ,then How will we classify?\n",
    "* Machine learning Algorithms are using in Every Domain in real world. so, yes in crytpgraphy also we can use ML classification   technique's like by converting ciphertext into vectors using tfidf ,word2vec and also use some Basic techniques for Feature   \n",
    "  Engineering.\n",
    "\n",
    "\n"
   ]
  },
  {
   "cell_type": "code",
   "execution_count": 12,
   "metadata": {
    "id": "o70UEcknspJ9"
   },
   "outputs": [],
   "source": [
    "from sklearn.feature_extraction.text import CountVectorizer,TfidfVectorizer\n",
    "from sklearn.preprocessing import Normalizer\n",
    "from scipy.sparse import hstack\n",
    "import warnings\n",
    "warnings.filterwarnings('ignore')"
   ]
  },
  {
   "cell_type": "code",
   "execution_count": 13,
   "metadata": {
    "id": "4L09kyifatkr"
   },
   "outputs": [],
   "source": [
    "import pandas as pd\n",
    "df_train= pd.read_csv(\"FE_traindata.csv\") # reading the train feature engineering csv file\n",
    "df_test = pd.read_csv(\"FE_testdata.csv\") # reading the test feature engineering csv file"
   ]
  },
  {
   "cell_type": "code",
   "execution_count": 14,
   "metadata": {
    "colab": {
     "base_uri": "https://localhost:8080/",
     "height": 287
    },
    "id": "23SAS7YdbeoP",
    "outputId": "3f26c56a-550a-4427-a65b-b1816d19b005"
   },
   "outputs": [
    {
     "data": {
      "text/html": [
       "\n",
       "  <div id=\"df-d20c2789-a96f-4e53-b42f-aaf3a14d34de\">\n",
       "    <div class=\"colab-df-container\">\n",
       "      <div>\n",
       "<style scoped>\n",
       "    .dataframe tbody tr th:only-of-type {\n",
       "        vertical-align: middle;\n",
       "    }\n",
       "\n",
       "    .dataframe tbody tr th {\n",
       "        vertical-align: top;\n",
       "    }\n",
       "\n",
       "    .dataframe thead th {\n",
       "        text-align: right;\n",
       "    }\n",
       "</style>\n",
       "<table border=\"1\" class=\"dataframe\">\n",
       "  <thead>\n",
       "    <tr style=\"text-align: right;\">\n",
       "      <th></th>\n",
       "      <th>ciphertext</th>\n",
       "      <th>Id</th>\n",
       "      <th>target</th>\n",
       "      <th>length</th>\n",
       "      <th>len_of_digits</th>\n",
       "      <th>special_characters</th>\n",
       "      <th>small_case</th>\n",
       "      <th>upper_case</th>\n",
       "      <th>no_of_sentences</th>\n",
       "      <th>per_length</th>\n",
       "      <th>per_len_of_digits</th>\n",
       "      <th>per_no_of_sentences</th>\n",
       "      <th>no_of_words</th>\n",
       "      <th>log_value</th>\n",
       "    </tr>\n",
       "  </thead>\n",
       "  <tbody>\n",
       "    <tr>\n",
       "      <th>0</th>\n",
       "      <td>W)(7\u001ayT7h8;Hv\\nlTcH;hHhNW)%HhMNPcHNG_Cy^PvMBMy...</td>\n",
       "      <td>ID_48096b7a9</td>\n",
       "      <td>12</td>\n",
       "      <td>1268</td>\n",
       "      <td>95</td>\n",
       "      <td>214</td>\n",
       "      <td>467</td>\n",
       "      <td>326</td>\n",
       "      <td>52</td>\n",
       "      <td>22.518203</td>\n",
       "      <td>1.687089</td>\n",
       "      <td>0.010764</td>\n",
       "      <td>82</td>\n",
       "      <td>6.146329</td>\n",
       "    </tr>\n",
       "    <tr>\n",
       "      <th>1</th>\n",
       "      <td>W)(7\u001ayqv(H3cl-iNHv\u001e",
       "cNMrcNv3y^](H\\ny\\tNy\u0003c/syPc...</td>\n",
       "      <td>ID_a2d6e55f4</td>\n",
       "      <td>2</td>\n",
       "      <td>1053</td>\n",
       "      <td>65</td>\n",
       "      <td>153</td>\n",
       "      <td>468</td>\n",
       "      <td>242</td>\n",
       "      <td>37</td>\n",
       "      <td>18.700053</td>\n",
       "      <td>1.154324</td>\n",
       "      <td>0.007659</td>\n",
       "      <td>53</td>\n",
       "      <td>6.148468</td>\n",
       "    </tr>\n",
       "    <tr>\n",
       "      <th>2</th>\n",
       "      <td>W)(7\u001ayqM()qMl7;HTvM)N\\n()8N%hNc8syPcu4Mhv\u001ayO(H...</td>\n",
       "      <td>ID_9dde342f6</td>\n",
       "      <td>11</td>\n",
       "      <td>491</td>\n",
       "      <td>49</td>\n",
       "      <td>99</td>\n",
       "      <td>166</td>\n",
       "      <td>127</td>\n",
       "      <td>19</td>\n",
       "      <td>8.719588</td>\n",
       "      <td>0.870183</td>\n",
       "      <td>0.003933</td>\n",
       "      <td>38</td>\n",
       "      <td>5.111988</td>\n",
       "    </tr>\n",
       "    <tr>\n",
       "      <th>3</th>\n",
       "      <td>W)(7\u001ayH=j0j?&amp;Il\u001e",
       "MHT(HNhhN33cNMrcy^\\%7MTyX(cq1%...</td>\n",
       "      <td>ID_b637c2642</td>\n",
       "      <td>16</td>\n",
       "      <td>946</td>\n",
       "      <td>69</td>\n",
       "      <td>164</td>\n",
       "      <td>331</td>\n",
       "      <td>233</td>\n",
       "      <td>49</td>\n",
       "      <td>16.799858</td>\n",
       "      <td>1.225360</td>\n",
       "      <td>0.010143</td>\n",
       "      <td>71</td>\n",
       "      <td>5.802118</td>\n",
       "    </tr>\n",
       "    <tr>\n",
       "      <th>4</th>\n",
       "      <td>W)(7\u001ay8()MHM8lH7v;Nh(7y^q%)\\ny8()MHM8/syPcu4Mh...</td>\n",
       "      <td>ID_51b0f15e7</td>\n",
       "      <td>3</td>\n",
       "      <td>2775</td>\n",
       "      <td>224</td>\n",
       "      <td>593</td>\n",
       "      <td>1001</td>\n",
       "      <td>578</td>\n",
       "      <td>110</td>\n",
       "      <td>49.280767</td>\n",
       "      <td>3.977979</td>\n",
       "      <td>0.022770</td>\n",
       "      <td>167</td>\n",
       "      <td>6.908755</td>\n",
       "    </tr>\n",
       "  </tbody>\n",
       "</table>\n",
       "</div>\n",
       "      <button class=\"colab-df-convert\" onclick=\"convertToInteractive('df-d20c2789-a96f-4e53-b42f-aaf3a14d34de')\"\n",
       "              title=\"Convert this dataframe to an interactive table.\"\n",
       "              style=\"display:none;\">\n",
       "        \n",
       "  <svg xmlns=\"http://www.w3.org/2000/svg\" height=\"24px\"viewBox=\"0 0 24 24\"\n",
       "       width=\"24px\">\n",
       "    <path d=\"M0 0h24v24H0V0z\" fill=\"none\"/>\n",
       "    <path d=\"M18.56 5.44l.94 2.06.94-2.06 2.06-.94-2.06-.94-.94-2.06-.94 2.06-2.06.94zm-11 1L8.5 8.5l.94-2.06 2.06-.94-2.06-.94L8.5 2.5l-.94 2.06-2.06.94zm10 10l.94 2.06.94-2.06 2.06-.94-2.06-.94-.94-2.06-.94 2.06-2.06.94z\"/><path d=\"M17.41 7.96l-1.37-1.37c-.4-.4-.92-.59-1.43-.59-.52 0-1.04.2-1.43.59L10.3 9.45l-7.72 7.72c-.78.78-.78 2.05 0 2.83L4 21.41c.39.39.9.59 1.41.59.51 0 1.02-.2 1.41-.59l7.78-7.78 2.81-2.81c.8-.78.8-2.07 0-2.86zM5.41 20L4 18.59l7.72-7.72 1.47 1.35L5.41 20z\"/>\n",
       "  </svg>\n",
       "      </button>\n",
       "      \n",
       "  <style>\n",
       "    .colab-df-container {\n",
       "      display:flex;\n",
       "      flex-wrap:wrap;\n",
       "      gap: 12px;\n",
       "    }\n",
       "\n",
       "    .colab-df-convert {\n",
       "      background-color: #E8F0FE;\n",
       "      border: none;\n",
       "      border-radius: 50%;\n",
       "      cursor: pointer;\n",
       "      display: none;\n",
       "      fill: #1967D2;\n",
       "      height: 32px;\n",
       "      padding: 0 0 0 0;\n",
       "      width: 32px;\n",
       "    }\n",
       "\n",
       "    .colab-df-convert:hover {\n",
       "      background-color: #E2EBFA;\n",
       "      box-shadow: 0px 1px 2px rgba(60, 64, 67, 0.3), 0px 1px 3px 1px rgba(60, 64, 67, 0.15);\n",
       "      fill: #174EA6;\n",
       "    }\n",
       "\n",
       "    [theme=dark] .colab-df-convert {\n",
       "      background-color: #3B4455;\n",
       "      fill: #D2E3FC;\n",
       "    }\n",
       "\n",
       "    [theme=dark] .colab-df-convert:hover {\n",
       "      background-color: #434B5C;\n",
       "      box-shadow: 0px 1px 3px 1px rgba(0, 0, 0, 0.15);\n",
       "      filter: drop-shadow(0px 1px 2px rgba(0, 0, 0, 0.3));\n",
       "      fill: #FFFFFF;\n",
       "    }\n",
       "  </style>\n",
       "\n",
       "      <script>\n",
       "        const buttonEl =\n",
       "          document.querySelector('#df-d20c2789-a96f-4e53-b42f-aaf3a14d34de button.colab-df-convert');\n",
       "        buttonEl.style.display =\n",
       "          google.colab.kernel.accessAllowed ? 'block' : 'none';\n",
       "\n",
       "        async function convertToInteractive(key) {\n",
       "          const element = document.querySelector('#df-d20c2789-a96f-4e53-b42f-aaf3a14d34de');\n",
       "          const dataTable =\n",
       "            await google.colab.kernel.invokeFunction('convertToInteractive',\n",
       "                                                     [key], {});\n",
       "          if (!dataTable) return;\n",
       "\n",
       "          const docLinkHtml = 'Like what you see? Visit the ' +\n",
       "            '<a target=\"_blank\" href=https://colab.research.google.com/notebooks/data_table.ipynb>data table notebook</a>'\n",
       "            + ' to learn more about interactive tables.';\n",
       "          element.innerHTML = '';\n",
       "          dataTable['output_type'] = 'display_data';\n",
       "          await google.colab.output.renderOutput(dataTable, element);\n",
       "          const docLink = document.createElement('div');\n",
       "          docLink.innerHTML = docLinkHtml;\n",
       "          element.appendChild(docLink);\n",
       "        }\n",
       "      </script>\n",
       "    </div>\n",
       "  </div>\n",
       "  "
      ],
      "text/plain": [
       "                                          ciphertext            Id  target  \\\n",
       "0  W)(7\u001ayT7h8;Hv\\nlTcH;hHhNW)%HhMNPcHNG_Cy^PvMBMy...  ID_48096b7a9      12   \n",
       "1  W)(7\u001ayqv(H3cl-iNHv\n",
       "cNMrcNv3y^](H\\ny\\tNy\u0003c/syPc...  ID_a2d6e55f4       2   \n",
       "2  W)(7\u001ayqM()qMl7;HTvM)N\\n()8N%hNc8syPcu4Mhv\u001ayO(H...  ID_9dde342f6      11   \n",
       "3  W)(7\u001ayH=j0j?&Il\n",
       "MHT(HNhhN33cNMrcy^\\%7MTyX(cq1%...  ID_b637c2642      16   \n",
       "4  W)(7\u001ay8()MHM8lH7v;Nh(7y^q%)\\ny8()MHM8/syPcu4Mh...  ID_51b0f15e7       3   \n",
       "\n",
       "   length  len_of_digits  special_characters  small_case  upper_case  \\\n",
       "0    1268             95                 214         467         326   \n",
       "1    1053             65                 153         468         242   \n",
       "2     491             49                  99         166         127   \n",
       "3     946             69                 164         331         233   \n",
       "4    2775            224                 593        1001         578   \n",
       "\n",
       "   no_of_sentences  per_length  per_len_of_digits  per_no_of_sentences  \\\n",
       "0               52   22.518203           1.687089             0.010764   \n",
       "1               37   18.700053           1.154324             0.007659   \n",
       "2               19    8.719588           0.870183             0.003933   \n",
       "3               49   16.799858           1.225360             0.010143   \n",
       "4              110   49.280767           3.977979             0.022770   \n",
       "\n",
       "   no_of_words  log_value  \n",
       "0           82   6.146329  \n",
       "1           53   6.148468  \n",
       "2           38   5.111988  \n",
       "3           71   5.802118  \n",
       "4          167   6.908755  "
      ]
     },
     "execution_count": 14,
     "metadata": {},
     "output_type": "execute_result"
    }
   ],
   "source": [
    "df_train.head(5)"
   ]
  },
  {
   "cell_type": "code",
   "execution_count": 15,
   "metadata": {
    "id": "BMGOZ4TqbnRl"
   },
   "outputs": [],
   "source": [
    "#  !pip install pingouin\n",
    "#  import pingouin as pg"
   ]
  },
  {
   "cell_type": "code",
   "execution_count": 16,
   "metadata": {
    "id": "1PWI7p_9btzK"
   },
   "outputs": [],
   "source": [
    "# pg.anova(dv='target',between='no_of_sentences',data = df, detailed=True)"
   ]
  },
  {
   "cell_type": "markdown",
   "metadata": {
    "id": "h0pqe6PetZvi"
   },
   "source": [
    "### Feature Analysis of varaince(Anova)\n",
    "* To do the anova test I referred this youtube video https://www.youtube.com/watch?v=_X45N7ERtY4&list=LL&index=4\n",
    "* Anova test will tells us how important your feature on target class based on the groups of variance of your feature\n",
    "* if p value is less than 0.05 then your feature is good else reject"
   ]
  },
  {
   "cell_type": "code",
   "execution_count": 17,
   "metadata": {
    "id": "EEzYyv5Hb6Vc"
   },
   "outputs": [],
   "source": [
    "import statsmodels.api as sm"
   ]
  },
  {
   "cell_type": "code",
   "execution_count": 18,
   "metadata": {
    "id": "tcvh9vXncZPJ"
   },
   "outputs": [],
   "source": [
    "from statsmodels.formula.api import ols"
   ]
  },
  {
   "cell_type": "code",
   "execution_count": 19,
   "metadata": {
    "id": "b9OwDrrgciEk"
   },
   "outputs": [],
   "source": [
    "model = ols('target ~ length',data = df_train).fit()"
   ]
  },
  {
   "cell_type": "code",
   "execution_count": 20,
   "metadata": {
    "colab": {
     "base_uri": "https://localhost:8080/",
     "height": 112
    },
    "id": "3EVNLx_1hZLl",
    "outputId": "cb48f394-c481-4fb8-c09c-64da7897dea8"
   },
   "outputs": [
    {
     "data": {
      "text/html": [
       "\n",
       "  <div id=\"df-f8c13ab5-302c-4f5a-b813-85d7c2e1afd3\">\n",
       "    <div class=\"colab-df-container\">\n",
       "      <div>\n",
       "<style scoped>\n",
       "    .dataframe tbody tr th:only-of-type {\n",
       "        vertical-align: middle;\n",
       "    }\n",
       "\n",
       "    .dataframe tbody tr th {\n",
       "        vertical-align: top;\n",
       "    }\n",
       "\n",
       "    .dataframe thead th {\n",
       "        text-align: right;\n",
       "    }\n",
       "</style>\n",
       "<table border=\"1\" class=\"dataframe\">\n",
       "  <thead>\n",
       "    <tr style=\"text-align: right;\">\n",
       "      <th></th>\n",
       "      <th>sum_sq</th>\n",
       "      <th>df</th>\n",
       "      <th>F</th>\n",
       "      <th>PR(&gt;F)</th>\n",
       "    </tr>\n",
       "  </thead>\n",
       "  <tbody>\n",
       "    <tr>\n",
       "      <th>length</th>\n",
       "      <td>754.140686</td>\n",
       "      <td>1.0</td>\n",
       "      <td>24.708893</td>\n",
       "      <td>6.865130e-07</td>\n",
       "    </tr>\n",
       "    <tr>\n",
       "      <th>Residual</th>\n",
       "      <td>171772.315619</td>\n",
       "      <td>5628.0</td>\n",
       "      <td>NaN</td>\n",
       "      <td>NaN</td>\n",
       "    </tr>\n",
       "  </tbody>\n",
       "</table>\n",
       "</div>\n",
       "      <button class=\"colab-df-convert\" onclick=\"convertToInteractive('df-f8c13ab5-302c-4f5a-b813-85d7c2e1afd3')\"\n",
       "              title=\"Convert this dataframe to an interactive table.\"\n",
       "              style=\"display:none;\">\n",
       "        \n",
       "  <svg xmlns=\"http://www.w3.org/2000/svg\" height=\"24px\"viewBox=\"0 0 24 24\"\n",
       "       width=\"24px\">\n",
       "    <path d=\"M0 0h24v24H0V0z\" fill=\"none\"/>\n",
       "    <path d=\"M18.56 5.44l.94 2.06.94-2.06 2.06-.94-2.06-.94-.94-2.06-.94 2.06-2.06.94zm-11 1L8.5 8.5l.94-2.06 2.06-.94-2.06-.94L8.5 2.5l-.94 2.06-2.06.94zm10 10l.94 2.06.94-2.06 2.06-.94-2.06-.94-.94-2.06-.94 2.06-2.06.94z\"/><path d=\"M17.41 7.96l-1.37-1.37c-.4-.4-.92-.59-1.43-.59-.52 0-1.04.2-1.43.59L10.3 9.45l-7.72 7.72c-.78.78-.78 2.05 0 2.83L4 21.41c.39.39.9.59 1.41.59.51 0 1.02-.2 1.41-.59l7.78-7.78 2.81-2.81c.8-.78.8-2.07 0-2.86zM5.41 20L4 18.59l7.72-7.72 1.47 1.35L5.41 20z\"/>\n",
       "  </svg>\n",
       "      </button>\n",
       "      \n",
       "  <style>\n",
       "    .colab-df-container {\n",
       "      display:flex;\n",
       "      flex-wrap:wrap;\n",
       "      gap: 12px;\n",
       "    }\n",
       "\n",
       "    .colab-df-convert {\n",
       "      background-color: #E8F0FE;\n",
       "      border: none;\n",
       "      border-radius: 50%;\n",
       "      cursor: pointer;\n",
       "      display: none;\n",
       "      fill: #1967D2;\n",
       "      height: 32px;\n",
       "      padding: 0 0 0 0;\n",
       "      width: 32px;\n",
       "    }\n",
       "\n",
       "    .colab-df-convert:hover {\n",
       "      background-color: #E2EBFA;\n",
       "      box-shadow: 0px 1px 2px rgba(60, 64, 67, 0.3), 0px 1px 3px 1px rgba(60, 64, 67, 0.15);\n",
       "      fill: #174EA6;\n",
       "    }\n",
       "\n",
       "    [theme=dark] .colab-df-convert {\n",
       "      background-color: #3B4455;\n",
       "      fill: #D2E3FC;\n",
       "    }\n",
       "\n",
       "    [theme=dark] .colab-df-convert:hover {\n",
       "      background-color: #434B5C;\n",
       "      box-shadow: 0px 1px 3px 1px rgba(0, 0, 0, 0.15);\n",
       "      filter: drop-shadow(0px 1px 2px rgba(0, 0, 0, 0.3));\n",
       "      fill: #FFFFFF;\n",
       "    }\n",
       "  </style>\n",
       "\n",
       "      <script>\n",
       "        const buttonEl =\n",
       "          document.querySelector('#df-f8c13ab5-302c-4f5a-b813-85d7c2e1afd3 button.colab-df-convert');\n",
       "        buttonEl.style.display =\n",
       "          google.colab.kernel.accessAllowed ? 'block' : 'none';\n",
       "\n",
       "        async function convertToInteractive(key) {\n",
       "          const element = document.querySelector('#df-f8c13ab5-302c-4f5a-b813-85d7c2e1afd3');\n",
       "          const dataTable =\n",
       "            await google.colab.kernel.invokeFunction('convertToInteractive',\n",
       "                                                     [key], {});\n",
       "          if (!dataTable) return;\n",
       "\n",
       "          const docLinkHtml = 'Like what you see? Visit the ' +\n",
       "            '<a target=\"_blank\" href=https://colab.research.google.com/notebooks/data_table.ipynb>data table notebook</a>'\n",
       "            + ' to learn more about interactive tables.';\n",
       "          element.innerHTML = '';\n",
       "          dataTable['output_type'] = 'display_data';\n",
       "          await google.colab.output.renderOutput(dataTable, element);\n",
       "          const docLink = document.createElement('div');\n",
       "          docLink.innerHTML = docLinkHtml;\n",
       "          element.appendChild(docLink);\n",
       "        }\n",
       "      </script>\n",
       "    </div>\n",
       "  </div>\n",
       "  "
      ],
      "text/plain": [
       "                 sum_sq      df          F        PR(>F)\n",
       "length       754.140686     1.0  24.708893  6.865130e-07\n",
       "Residual  171772.315619  5628.0        NaN           NaN"
      ]
     },
     "execution_count": 20,
     "metadata": {},
     "output_type": "execute_result"
    }
   ],
   "source": [
    "p = sm.stats.anova_lm(model,typ=2)\n",
    "p"
   ]
  },
  {
   "cell_type": "code",
   "execution_count": 21,
   "metadata": {
    "colab": {
     "base_uri": "https://localhost:8080/",
     "height": 112
    },
    "id": "UHPi_c4Phwpj",
    "outputId": "049345bd-547c-49e5-93d9-5e2cfbac0a5f"
   },
   "outputs": [
    {
     "data": {
      "text/html": [
       "\n",
       "  <div id=\"df-2b04a3d3-da35-4164-9234-ad23d61eab39\">\n",
       "    <div class=\"colab-df-container\">\n",
       "      <div>\n",
       "<style scoped>\n",
       "    .dataframe tbody tr th:only-of-type {\n",
       "        vertical-align: middle;\n",
       "    }\n",
       "\n",
       "    .dataframe tbody tr th {\n",
       "        vertical-align: top;\n",
       "    }\n",
       "\n",
       "    .dataframe thead th {\n",
       "        text-align: right;\n",
       "    }\n",
       "</style>\n",
       "<table border=\"1\" class=\"dataframe\">\n",
       "  <thead>\n",
       "    <tr style=\"text-align: right;\">\n",
       "      <th></th>\n",
       "      <th>sum_sq</th>\n",
       "      <th>df</th>\n",
       "      <th>F</th>\n",
       "      <th>PR(&gt;F)</th>\n",
       "    </tr>\n",
       "  </thead>\n",
       "  <tbody>\n",
       "    <tr>\n",
       "      <th>len_of_digits</th>\n",
       "      <td>640.605157</td>\n",
       "      <td>1.0</td>\n",
       "      <td>20.975117</td>\n",
       "      <td>0.000005</td>\n",
       "    </tr>\n",
       "    <tr>\n",
       "      <th>Residual</th>\n",
       "      <td>171885.851149</td>\n",
       "      <td>5628.0</td>\n",
       "      <td>NaN</td>\n",
       "      <td>NaN</td>\n",
       "    </tr>\n",
       "  </tbody>\n",
       "</table>\n",
       "</div>\n",
       "      <button class=\"colab-df-convert\" onclick=\"convertToInteractive('df-2b04a3d3-da35-4164-9234-ad23d61eab39')\"\n",
       "              title=\"Convert this dataframe to an interactive table.\"\n",
       "              style=\"display:none;\">\n",
       "        \n",
       "  <svg xmlns=\"http://www.w3.org/2000/svg\" height=\"24px\"viewBox=\"0 0 24 24\"\n",
       "       width=\"24px\">\n",
       "    <path d=\"M0 0h24v24H0V0z\" fill=\"none\"/>\n",
       "    <path d=\"M18.56 5.44l.94 2.06.94-2.06 2.06-.94-2.06-.94-.94-2.06-.94 2.06-2.06.94zm-11 1L8.5 8.5l.94-2.06 2.06-.94-2.06-.94L8.5 2.5l-.94 2.06-2.06.94zm10 10l.94 2.06.94-2.06 2.06-.94-2.06-.94-.94-2.06-.94 2.06-2.06.94z\"/><path d=\"M17.41 7.96l-1.37-1.37c-.4-.4-.92-.59-1.43-.59-.52 0-1.04.2-1.43.59L10.3 9.45l-7.72 7.72c-.78.78-.78 2.05 0 2.83L4 21.41c.39.39.9.59 1.41.59.51 0 1.02-.2 1.41-.59l7.78-7.78 2.81-2.81c.8-.78.8-2.07 0-2.86zM5.41 20L4 18.59l7.72-7.72 1.47 1.35L5.41 20z\"/>\n",
       "  </svg>\n",
       "      </button>\n",
       "      \n",
       "  <style>\n",
       "    .colab-df-container {\n",
       "      display:flex;\n",
       "      flex-wrap:wrap;\n",
       "      gap: 12px;\n",
       "    }\n",
       "\n",
       "    .colab-df-convert {\n",
       "      background-color: #E8F0FE;\n",
       "      border: none;\n",
       "      border-radius: 50%;\n",
       "      cursor: pointer;\n",
       "      display: none;\n",
       "      fill: #1967D2;\n",
       "      height: 32px;\n",
       "      padding: 0 0 0 0;\n",
       "      width: 32px;\n",
       "    }\n",
       "\n",
       "    .colab-df-convert:hover {\n",
       "      background-color: #E2EBFA;\n",
       "      box-shadow: 0px 1px 2px rgba(60, 64, 67, 0.3), 0px 1px 3px 1px rgba(60, 64, 67, 0.15);\n",
       "      fill: #174EA6;\n",
       "    }\n",
       "\n",
       "    [theme=dark] .colab-df-convert {\n",
       "      background-color: #3B4455;\n",
       "      fill: #D2E3FC;\n",
       "    }\n",
       "\n",
       "    [theme=dark] .colab-df-convert:hover {\n",
       "      background-color: #434B5C;\n",
       "      box-shadow: 0px 1px 3px 1px rgba(0, 0, 0, 0.15);\n",
       "      filter: drop-shadow(0px 1px 2px rgba(0, 0, 0, 0.3));\n",
       "      fill: #FFFFFF;\n",
       "    }\n",
       "  </style>\n",
       "\n",
       "      <script>\n",
       "        const buttonEl =\n",
       "          document.querySelector('#df-2b04a3d3-da35-4164-9234-ad23d61eab39 button.colab-df-convert');\n",
       "        buttonEl.style.display =\n",
       "          google.colab.kernel.accessAllowed ? 'block' : 'none';\n",
       "\n",
       "        async function convertToInteractive(key) {\n",
       "          const element = document.querySelector('#df-2b04a3d3-da35-4164-9234-ad23d61eab39');\n",
       "          const dataTable =\n",
       "            await google.colab.kernel.invokeFunction('convertToInteractive',\n",
       "                                                     [key], {});\n",
       "          if (!dataTable) return;\n",
       "\n",
       "          const docLinkHtml = 'Like what you see? Visit the ' +\n",
       "            '<a target=\"_blank\" href=https://colab.research.google.com/notebooks/data_table.ipynb>data table notebook</a>'\n",
       "            + ' to learn more about interactive tables.';\n",
       "          element.innerHTML = '';\n",
       "          dataTable['output_type'] = 'display_data';\n",
       "          await google.colab.output.renderOutput(dataTable, element);\n",
       "          const docLink = document.createElement('div');\n",
       "          docLink.innerHTML = docLinkHtml;\n",
       "          element.appendChild(docLink);\n",
       "        }\n",
       "      </script>\n",
       "    </div>\n",
       "  </div>\n",
       "  "
      ],
      "text/plain": [
       "                      sum_sq      df          F    PR(>F)\n",
       "len_of_digits     640.605157     1.0  20.975117  0.000005\n",
       "Residual       171885.851149  5628.0        NaN       NaN"
      ]
     },
     "execution_count": 21,
     "metadata": {},
     "output_type": "execute_result"
    }
   ],
   "source": [
    "model1 = ols('target ~ len_of_digits',data = df_train).fit()\n",
    "p1 = sm.stats.anova_lm(model1,typ=2)\n",
    "p1"
   ]
  },
  {
   "cell_type": "code",
   "execution_count": 22,
   "metadata": {
    "colab": {
     "base_uri": "https://localhost:8080/",
     "height": 112
    },
    "id": "rZZBqCdsNTqf",
    "outputId": "80bcfb8d-2611-45f9-b11d-aa50663e9725"
   },
   "outputs": [
    {
     "data": {
      "text/html": [
       "\n",
       "  <div id=\"df-e919c58b-5778-4b63-a873-dde36b823a07\">\n",
       "    <div class=\"colab-df-container\">\n",
       "      <div>\n",
       "<style scoped>\n",
       "    .dataframe tbody tr th:only-of-type {\n",
       "        vertical-align: middle;\n",
       "    }\n",
       "\n",
       "    .dataframe tbody tr th {\n",
       "        vertical-align: top;\n",
       "    }\n",
       "\n",
       "    .dataframe thead th {\n",
       "        text-align: right;\n",
       "    }\n",
       "</style>\n",
       "<table border=\"1\" class=\"dataframe\">\n",
       "  <thead>\n",
       "    <tr style=\"text-align: right;\">\n",
       "      <th></th>\n",
       "      <th>sum_sq</th>\n",
       "      <th>df</th>\n",
       "      <th>F</th>\n",
       "      <th>PR(&gt;F)</th>\n",
       "    </tr>\n",
       "  </thead>\n",
       "  <tbody>\n",
       "    <tr>\n",
       "      <th>special_characters</th>\n",
       "      <td>534.757532</td>\n",
       "      <td>1.0</td>\n",
       "      <td>17.498608</td>\n",
       "      <td>0.000029</td>\n",
       "    </tr>\n",
       "    <tr>\n",
       "      <th>Residual</th>\n",
       "      <td>171991.698773</td>\n",
       "      <td>5628.0</td>\n",
       "      <td>NaN</td>\n",
       "      <td>NaN</td>\n",
       "    </tr>\n",
       "  </tbody>\n",
       "</table>\n",
       "</div>\n",
       "      <button class=\"colab-df-convert\" onclick=\"convertToInteractive('df-e919c58b-5778-4b63-a873-dde36b823a07')\"\n",
       "              title=\"Convert this dataframe to an interactive table.\"\n",
       "              style=\"display:none;\">\n",
       "        \n",
       "  <svg xmlns=\"http://www.w3.org/2000/svg\" height=\"24px\"viewBox=\"0 0 24 24\"\n",
       "       width=\"24px\">\n",
       "    <path d=\"M0 0h24v24H0V0z\" fill=\"none\"/>\n",
       "    <path d=\"M18.56 5.44l.94 2.06.94-2.06 2.06-.94-2.06-.94-.94-2.06-.94 2.06-2.06.94zm-11 1L8.5 8.5l.94-2.06 2.06-.94-2.06-.94L8.5 2.5l-.94 2.06-2.06.94zm10 10l.94 2.06.94-2.06 2.06-.94-2.06-.94-.94-2.06-.94 2.06-2.06.94z\"/><path d=\"M17.41 7.96l-1.37-1.37c-.4-.4-.92-.59-1.43-.59-.52 0-1.04.2-1.43.59L10.3 9.45l-7.72 7.72c-.78.78-.78 2.05 0 2.83L4 21.41c.39.39.9.59 1.41.59.51 0 1.02-.2 1.41-.59l7.78-7.78 2.81-2.81c.8-.78.8-2.07 0-2.86zM5.41 20L4 18.59l7.72-7.72 1.47 1.35L5.41 20z\"/>\n",
       "  </svg>\n",
       "      </button>\n",
       "      \n",
       "  <style>\n",
       "    .colab-df-container {\n",
       "      display:flex;\n",
       "      flex-wrap:wrap;\n",
       "      gap: 12px;\n",
       "    }\n",
       "\n",
       "    .colab-df-convert {\n",
       "      background-color: #E8F0FE;\n",
       "      border: none;\n",
       "      border-radius: 50%;\n",
       "      cursor: pointer;\n",
       "      display: none;\n",
       "      fill: #1967D2;\n",
       "      height: 32px;\n",
       "      padding: 0 0 0 0;\n",
       "      width: 32px;\n",
       "    }\n",
       "\n",
       "    .colab-df-convert:hover {\n",
       "      background-color: #E2EBFA;\n",
       "      box-shadow: 0px 1px 2px rgba(60, 64, 67, 0.3), 0px 1px 3px 1px rgba(60, 64, 67, 0.15);\n",
       "      fill: #174EA6;\n",
       "    }\n",
       "\n",
       "    [theme=dark] .colab-df-convert {\n",
       "      background-color: #3B4455;\n",
       "      fill: #D2E3FC;\n",
       "    }\n",
       "\n",
       "    [theme=dark] .colab-df-convert:hover {\n",
       "      background-color: #434B5C;\n",
       "      box-shadow: 0px 1px 3px 1px rgba(0, 0, 0, 0.15);\n",
       "      filter: drop-shadow(0px 1px 2px rgba(0, 0, 0, 0.3));\n",
       "      fill: #FFFFFF;\n",
       "    }\n",
       "  </style>\n",
       "\n",
       "      <script>\n",
       "        const buttonEl =\n",
       "          document.querySelector('#df-e919c58b-5778-4b63-a873-dde36b823a07 button.colab-df-convert');\n",
       "        buttonEl.style.display =\n",
       "          google.colab.kernel.accessAllowed ? 'block' : 'none';\n",
       "\n",
       "        async function convertToInteractive(key) {\n",
       "          const element = document.querySelector('#df-e919c58b-5778-4b63-a873-dde36b823a07');\n",
       "          const dataTable =\n",
       "            await google.colab.kernel.invokeFunction('convertToInteractive',\n",
       "                                                     [key], {});\n",
       "          if (!dataTable) return;\n",
       "\n",
       "          const docLinkHtml = 'Like what you see? Visit the ' +\n",
       "            '<a target=\"_blank\" href=https://colab.research.google.com/notebooks/data_table.ipynb>data table notebook</a>'\n",
       "            + ' to learn more about interactive tables.';\n",
       "          element.innerHTML = '';\n",
       "          dataTable['output_type'] = 'display_data';\n",
       "          await google.colab.output.renderOutput(dataTable, element);\n",
       "          const docLink = document.createElement('div');\n",
       "          docLink.innerHTML = docLinkHtml;\n",
       "          element.appendChild(docLink);\n",
       "        }\n",
       "      </script>\n",
       "    </div>\n",
       "  </div>\n",
       "  "
      ],
      "text/plain": [
       "                           sum_sq      df          F    PR(>F)\n",
       "special_characters     534.757532     1.0  17.498608  0.000029\n",
       "Residual            171991.698773  5628.0        NaN       NaN"
      ]
     },
     "execution_count": 22,
     "metadata": {},
     "output_type": "execute_result"
    }
   ],
   "source": [
    "model2 = ols('target ~ special_characters',data = df_train).fit()\n",
    "p2 = sm.stats.anova_lm(model2,typ=2)\n",
    "p2"
   ]
  },
  {
   "cell_type": "code",
   "execution_count": 23,
   "metadata": {
    "colab": {
     "base_uri": "https://localhost:8080/",
     "height": 112
    },
    "id": "miV6Nm_RNbfa",
    "outputId": "8d4e57b9-86ab-4891-fee6-30a311c6a51d"
   },
   "outputs": [
    {
     "data": {
      "text/html": [
       "\n",
       "  <div id=\"df-07e0da0b-05b8-4f82-acf0-fd19baec3c4e\">\n",
       "    <div class=\"colab-df-container\">\n",
       "      <div>\n",
       "<style scoped>\n",
       "    .dataframe tbody tr th:only-of-type {\n",
       "        vertical-align: middle;\n",
       "    }\n",
       "\n",
       "    .dataframe tbody tr th {\n",
       "        vertical-align: top;\n",
       "    }\n",
       "\n",
       "    .dataframe thead th {\n",
       "        text-align: right;\n",
       "    }\n",
       "</style>\n",
       "<table border=\"1\" class=\"dataframe\">\n",
       "  <thead>\n",
       "    <tr style=\"text-align: right;\">\n",
       "      <th></th>\n",
       "      <th>sum_sq</th>\n",
       "      <th>df</th>\n",
       "      <th>F</th>\n",
       "      <th>PR(&gt;F)</th>\n",
       "    </tr>\n",
       "  </thead>\n",
       "  <tbody>\n",
       "    <tr>\n",
       "      <th>small_case</th>\n",
       "      <td>1535.228573</td>\n",
       "      <td>1.0</td>\n",
       "      <td>50.530466</td>\n",
       "      <td>1.319154e-12</td>\n",
       "    </tr>\n",
       "    <tr>\n",
       "      <th>Residual</th>\n",
       "      <td>170991.227733</td>\n",
       "      <td>5628.0</td>\n",
       "      <td>NaN</td>\n",
       "      <td>NaN</td>\n",
       "    </tr>\n",
       "  </tbody>\n",
       "</table>\n",
       "</div>\n",
       "      <button class=\"colab-df-convert\" onclick=\"convertToInteractive('df-07e0da0b-05b8-4f82-acf0-fd19baec3c4e')\"\n",
       "              title=\"Convert this dataframe to an interactive table.\"\n",
       "              style=\"display:none;\">\n",
       "        \n",
       "  <svg xmlns=\"http://www.w3.org/2000/svg\" height=\"24px\"viewBox=\"0 0 24 24\"\n",
       "       width=\"24px\">\n",
       "    <path d=\"M0 0h24v24H0V0z\" fill=\"none\"/>\n",
       "    <path d=\"M18.56 5.44l.94 2.06.94-2.06 2.06-.94-2.06-.94-.94-2.06-.94 2.06-2.06.94zm-11 1L8.5 8.5l.94-2.06 2.06-.94-2.06-.94L8.5 2.5l-.94 2.06-2.06.94zm10 10l.94 2.06.94-2.06 2.06-.94-2.06-.94-.94-2.06-.94 2.06-2.06.94z\"/><path d=\"M17.41 7.96l-1.37-1.37c-.4-.4-.92-.59-1.43-.59-.52 0-1.04.2-1.43.59L10.3 9.45l-7.72 7.72c-.78.78-.78 2.05 0 2.83L4 21.41c.39.39.9.59 1.41.59.51 0 1.02-.2 1.41-.59l7.78-7.78 2.81-2.81c.8-.78.8-2.07 0-2.86zM5.41 20L4 18.59l7.72-7.72 1.47 1.35L5.41 20z\"/>\n",
       "  </svg>\n",
       "      </button>\n",
       "      \n",
       "  <style>\n",
       "    .colab-df-container {\n",
       "      display:flex;\n",
       "      flex-wrap:wrap;\n",
       "      gap: 12px;\n",
       "    }\n",
       "\n",
       "    .colab-df-convert {\n",
       "      background-color: #E8F0FE;\n",
       "      border: none;\n",
       "      border-radius: 50%;\n",
       "      cursor: pointer;\n",
       "      display: none;\n",
       "      fill: #1967D2;\n",
       "      height: 32px;\n",
       "      padding: 0 0 0 0;\n",
       "      width: 32px;\n",
       "    }\n",
       "\n",
       "    .colab-df-convert:hover {\n",
       "      background-color: #E2EBFA;\n",
       "      box-shadow: 0px 1px 2px rgba(60, 64, 67, 0.3), 0px 1px 3px 1px rgba(60, 64, 67, 0.15);\n",
       "      fill: #174EA6;\n",
       "    }\n",
       "\n",
       "    [theme=dark] .colab-df-convert {\n",
       "      background-color: #3B4455;\n",
       "      fill: #D2E3FC;\n",
       "    }\n",
       "\n",
       "    [theme=dark] .colab-df-convert:hover {\n",
       "      background-color: #434B5C;\n",
       "      box-shadow: 0px 1px 3px 1px rgba(0, 0, 0, 0.15);\n",
       "      filter: drop-shadow(0px 1px 2px rgba(0, 0, 0, 0.3));\n",
       "      fill: #FFFFFF;\n",
       "    }\n",
       "  </style>\n",
       "\n",
       "      <script>\n",
       "        const buttonEl =\n",
       "          document.querySelector('#df-07e0da0b-05b8-4f82-acf0-fd19baec3c4e button.colab-df-convert');\n",
       "        buttonEl.style.display =\n",
       "          google.colab.kernel.accessAllowed ? 'block' : 'none';\n",
       "\n",
       "        async function convertToInteractive(key) {\n",
       "          const element = document.querySelector('#df-07e0da0b-05b8-4f82-acf0-fd19baec3c4e');\n",
       "          const dataTable =\n",
       "            await google.colab.kernel.invokeFunction('convertToInteractive',\n",
       "                                                     [key], {});\n",
       "          if (!dataTable) return;\n",
       "\n",
       "          const docLinkHtml = 'Like what you see? Visit the ' +\n",
       "            '<a target=\"_blank\" href=https://colab.research.google.com/notebooks/data_table.ipynb>data table notebook</a>'\n",
       "            + ' to learn more about interactive tables.';\n",
       "          element.innerHTML = '';\n",
       "          dataTable['output_type'] = 'display_data';\n",
       "          await google.colab.output.renderOutput(dataTable, element);\n",
       "          const docLink = document.createElement('div');\n",
       "          docLink.innerHTML = docLinkHtml;\n",
       "          element.appendChild(docLink);\n",
       "        }\n",
       "      </script>\n",
       "    </div>\n",
       "  </div>\n",
       "  "
      ],
      "text/plain": [
       "                   sum_sq      df          F        PR(>F)\n",
       "small_case    1535.228573     1.0  50.530466  1.319154e-12\n",
       "Residual    170991.227733  5628.0        NaN           NaN"
      ]
     },
     "execution_count": 23,
     "metadata": {},
     "output_type": "execute_result"
    }
   ],
   "source": [
    "model3 = ols('target ~ small_case',data = df_train).fit()\n",
    "p3 = sm.stats.anova_lm(model3,typ=2)\n",
    "p3"
   ]
  },
  {
   "cell_type": "code",
   "execution_count": 24,
   "metadata": {
    "colab": {
     "base_uri": "https://localhost:8080/",
     "height": 112
    },
    "id": "VeYt3k7PNhnY",
    "outputId": "61c5911b-60c0-4e3f-b7dd-0dc1d1d53e77"
   },
   "outputs": [
    {
     "data": {
      "text/html": [
       "\n",
       "  <div id=\"df-557cab18-b988-4612-a9fa-b16c580eeece\">\n",
       "    <div class=\"colab-df-container\">\n",
       "      <div>\n",
       "<style scoped>\n",
       "    .dataframe tbody tr th:only-of-type {\n",
       "        vertical-align: middle;\n",
       "    }\n",
       "\n",
       "    .dataframe tbody tr th {\n",
       "        vertical-align: top;\n",
       "    }\n",
       "\n",
       "    .dataframe thead th {\n",
       "        text-align: right;\n",
       "    }\n",
       "</style>\n",
       "<table border=\"1\" class=\"dataframe\">\n",
       "  <thead>\n",
       "    <tr style=\"text-align: right;\">\n",
       "      <th></th>\n",
       "      <th>sum_sq</th>\n",
       "      <th>df</th>\n",
       "      <th>F</th>\n",
       "      <th>PR(&gt;F)</th>\n",
       "    </tr>\n",
       "  </thead>\n",
       "  <tbody>\n",
       "    <tr>\n",
       "      <th>upper_case</th>\n",
       "      <td>757.523149</td>\n",
       "      <td>1.0</td>\n",
       "      <td>24.820206</td>\n",
       "      <td>6.481537e-07</td>\n",
       "    </tr>\n",
       "    <tr>\n",
       "      <th>Residual</th>\n",
       "      <td>171768.933156</td>\n",
       "      <td>5628.0</td>\n",
       "      <td>NaN</td>\n",
       "      <td>NaN</td>\n",
       "    </tr>\n",
       "  </tbody>\n",
       "</table>\n",
       "</div>\n",
       "      <button class=\"colab-df-convert\" onclick=\"convertToInteractive('df-557cab18-b988-4612-a9fa-b16c580eeece')\"\n",
       "              title=\"Convert this dataframe to an interactive table.\"\n",
       "              style=\"display:none;\">\n",
       "        \n",
       "  <svg xmlns=\"http://www.w3.org/2000/svg\" height=\"24px\"viewBox=\"0 0 24 24\"\n",
       "       width=\"24px\">\n",
       "    <path d=\"M0 0h24v24H0V0z\" fill=\"none\"/>\n",
       "    <path d=\"M18.56 5.44l.94 2.06.94-2.06 2.06-.94-2.06-.94-.94-2.06-.94 2.06-2.06.94zm-11 1L8.5 8.5l.94-2.06 2.06-.94-2.06-.94L8.5 2.5l-.94 2.06-2.06.94zm10 10l.94 2.06.94-2.06 2.06-.94-2.06-.94-.94-2.06-.94 2.06-2.06.94z\"/><path d=\"M17.41 7.96l-1.37-1.37c-.4-.4-.92-.59-1.43-.59-.52 0-1.04.2-1.43.59L10.3 9.45l-7.72 7.72c-.78.78-.78 2.05 0 2.83L4 21.41c.39.39.9.59 1.41.59.51 0 1.02-.2 1.41-.59l7.78-7.78 2.81-2.81c.8-.78.8-2.07 0-2.86zM5.41 20L4 18.59l7.72-7.72 1.47 1.35L5.41 20z\"/>\n",
       "  </svg>\n",
       "      </button>\n",
       "      \n",
       "  <style>\n",
       "    .colab-df-container {\n",
       "      display:flex;\n",
       "      flex-wrap:wrap;\n",
       "      gap: 12px;\n",
       "    }\n",
       "\n",
       "    .colab-df-convert {\n",
       "      background-color: #E8F0FE;\n",
       "      border: none;\n",
       "      border-radius: 50%;\n",
       "      cursor: pointer;\n",
       "      display: none;\n",
       "      fill: #1967D2;\n",
       "      height: 32px;\n",
       "      padding: 0 0 0 0;\n",
       "      width: 32px;\n",
       "    }\n",
       "\n",
       "    .colab-df-convert:hover {\n",
       "      background-color: #E2EBFA;\n",
       "      box-shadow: 0px 1px 2px rgba(60, 64, 67, 0.3), 0px 1px 3px 1px rgba(60, 64, 67, 0.15);\n",
       "      fill: #174EA6;\n",
       "    }\n",
       "\n",
       "    [theme=dark] .colab-df-convert {\n",
       "      background-color: #3B4455;\n",
       "      fill: #D2E3FC;\n",
       "    }\n",
       "\n",
       "    [theme=dark] .colab-df-convert:hover {\n",
       "      background-color: #434B5C;\n",
       "      box-shadow: 0px 1px 3px 1px rgba(0, 0, 0, 0.15);\n",
       "      filter: drop-shadow(0px 1px 2px rgba(0, 0, 0, 0.3));\n",
       "      fill: #FFFFFF;\n",
       "    }\n",
       "  </style>\n",
       "\n",
       "      <script>\n",
       "        const buttonEl =\n",
       "          document.querySelector('#df-557cab18-b988-4612-a9fa-b16c580eeece button.colab-df-convert');\n",
       "        buttonEl.style.display =\n",
       "          google.colab.kernel.accessAllowed ? 'block' : 'none';\n",
       "\n",
       "        async function convertToInteractive(key) {\n",
       "          const element = document.querySelector('#df-557cab18-b988-4612-a9fa-b16c580eeece');\n",
       "          const dataTable =\n",
       "            await google.colab.kernel.invokeFunction('convertToInteractive',\n",
       "                                                     [key], {});\n",
       "          if (!dataTable) return;\n",
       "\n",
       "          const docLinkHtml = 'Like what you see? Visit the ' +\n",
       "            '<a target=\"_blank\" href=https://colab.research.google.com/notebooks/data_table.ipynb>data table notebook</a>'\n",
       "            + ' to learn more about interactive tables.';\n",
       "          element.innerHTML = '';\n",
       "          dataTable['output_type'] = 'display_data';\n",
       "          await google.colab.output.renderOutput(dataTable, element);\n",
       "          const docLink = document.createElement('div');\n",
       "          docLink.innerHTML = docLinkHtml;\n",
       "          element.appendChild(docLink);\n",
       "        }\n",
       "      </script>\n",
       "    </div>\n",
       "  </div>\n",
       "  "
      ],
      "text/plain": [
       "                   sum_sq      df          F        PR(>F)\n",
       "upper_case     757.523149     1.0  24.820206  6.481537e-07\n",
       "Residual    171768.933156  5628.0        NaN           NaN"
      ]
     },
     "execution_count": 24,
     "metadata": {},
     "output_type": "execute_result"
    }
   ],
   "source": [
    "model4 = ols('target ~ upper_case',data = df_train).fit()\n",
    "p4 = sm.stats.anova_lm(model4,typ=2)\n",
    "p4"
   ]
  },
  {
   "cell_type": "code",
   "execution_count": 25,
   "metadata": {
    "colab": {
     "base_uri": "https://localhost:8080/",
     "height": 112
    },
    "id": "CRnotCN8NnHw",
    "outputId": "8aff515e-f0b0-4219-b701-c2aa64819a6e"
   },
   "outputs": [
    {
     "data": {
      "text/html": [
       "\n",
       "  <div id=\"df-bf78a9f5-4529-4861-b1f9-786bd1b40daf\">\n",
       "    <div class=\"colab-df-container\">\n",
       "      <div>\n",
       "<style scoped>\n",
       "    .dataframe tbody tr th:only-of-type {\n",
       "        vertical-align: middle;\n",
       "    }\n",
       "\n",
       "    .dataframe tbody tr th {\n",
       "        vertical-align: top;\n",
       "    }\n",
       "\n",
       "    .dataframe thead th {\n",
       "        text-align: right;\n",
       "    }\n",
       "</style>\n",
       "<table border=\"1\" class=\"dataframe\">\n",
       "  <thead>\n",
       "    <tr style=\"text-align: right;\">\n",
       "      <th></th>\n",
       "      <th>df</th>\n",
       "      <th>sum_sq</th>\n",
       "      <th>mean_sq</th>\n",
       "      <th>F</th>\n",
       "      <th>PR(&gt;F)</th>\n",
       "    </tr>\n",
       "  </thead>\n",
       "  <tbody>\n",
       "    <tr>\n",
       "      <th>no_of_sentences</th>\n",
       "      <td>1.0</td>\n",
       "      <td>2941.206017</td>\n",
       "      <td>2941.206017</td>\n",
       "      <td>97.609358</td>\n",
       "      <td>7.810378e-23</td>\n",
       "    </tr>\n",
       "    <tr>\n",
       "      <th>Residual</th>\n",
       "      <td>5628.0</td>\n",
       "      <td>169585.250288</td>\n",
       "      <td>30.132418</td>\n",
       "      <td>NaN</td>\n",
       "      <td>NaN</td>\n",
       "    </tr>\n",
       "  </tbody>\n",
       "</table>\n",
       "</div>\n",
       "      <button class=\"colab-df-convert\" onclick=\"convertToInteractive('df-bf78a9f5-4529-4861-b1f9-786bd1b40daf')\"\n",
       "              title=\"Convert this dataframe to an interactive table.\"\n",
       "              style=\"display:none;\">\n",
       "        \n",
       "  <svg xmlns=\"http://www.w3.org/2000/svg\" height=\"24px\"viewBox=\"0 0 24 24\"\n",
       "       width=\"24px\">\n",
       "    <path d=\"M0 0h24v24H0V0z\" fill=\"none\"/>\n",
       "    <path d=\"M18.56 5.44l.94 2.06.94-2.06 2.06-.94-2.06-.94-.94-2.06-.94 2.06-2.06.94zm-11 1L8.5 8.5l.94-2.06 2.06-.94-2.06-.94L8.5 2.5l-.94 2.06-2.06.94zm10 10l.94 2.06.94-2.06 2.06-.94-2.06-.94-.94-2.06-.94 2.06-2.06.94z\"/><path d=\"M17.41 7.96l-1.37-1.37c-.4-.4-.92-.59-1.43-.59-.52 0-1.04.2-1.43.59L10.3 9.45l-7.72 7.72c-.78.78-.78 2.05 0 2.83L4 21.41c.39.39.9.59 1.41.59.51 0 1.02-.2 1.41-.59l7.78-7.78 2.81-2.81c.8-.78.8-2.07 0-2.86zM5.41 20L4 18.59l7.72-7.72 1.47 1.35L5.41 20z\"/>\n",
       "  </svg>\n",
       "      </button>\n",
       "      \n",
       "  <style>\n",
       "    .colab-df-container {\n",
       "      display:flex;\n",
       "      flex-wrap:wrap;\n",
       "      gap: 12px;\n",
       "    }\n",
       "\n",
       "    .colab-df-convert {\n",
       "      background-color: #E8F0FE;\n",
       "      border: none;\n",
       "      border-radius: 50%;\n",
       "      cursor: pointer;\n",
       "      display: none;\n",
       "      fill: #1967D2;\n",
       "      height: 32px;\n",
       "      padding: 0 0 0 0;\n",
       "      width: 32px;\n",
       "    }\n",
       "\n",
       "    .colab-df-convert:hover {\n",
       "      background-color: #E2EBFA;\n",
       "      box-shadow: 0px 1px 2px rgba(60, 64, 67, 0.3), 0px 1px 3px 1px rgba(60, 64, 67, 0.15);\n",
       "      fill: #174EA6;\n",
       "    }\n",
       "\n",
       "    [theme=dark] .colab-df-convert {\n",
       "      background-color: #3B4455;\n",
       "      fill: #D2E3FC;\n",
       "    }\n",
       "\n",
       "    [theme=dark] .colab-df-convert:hover {\n",
       "      background-color: #434B5C;\n",
       "      box-shadow: 0px 1px 3px 1px rgba(0, 0, 0, 0.15);\n",
       "      filter: drop-shadow(0px 1px 2px rgba(0, 0, 0, 0.3));\n",
       "      fill: #FFFFFF;\n",
       "    }\n",
       "  </style>\n",
       "\n",
       "      <script>\n",
       "        const buttonEl =\n",
       "          document.querySelector('#df-bf78a9f5-4529-4861-b1f9-786bd1b40daf button.colab-df-convert');\n",
       "        buttonEl.style.display =\n",
       "          google.colab.kernel.accessAllowed ? 'block' : 'none';\n",
       "\n",
       "        async function convertToInteractive(key) {\n",
       "          const element = document.querySelector('#df-bf78a9f5-4529-4861-b1f9-786bd1b40daf');\n",
       "          const dataTable =\n",
       "            await google.colab.kernel.invokeFunction('convertToInteractive',\n",
       "                                                     [key], {});\n",
       "          if (!dataTable) return;\n",
       "\n",
       "          const docLinkHtml = 'Like what you see? Visit the ' +\n",
       "            '<a target=\"_blank\" href=https://colab.research.google.com/notebooks/data_table.ipynb>data table notebook</a>'\n",
       "            + ' to learn more about interactive tables.';\n",
       "          element.innerHTML = '';\n",
       "          dataTable['output_type'] = 'display_data';\n",
       "          await google.colab.output.renderOutput(dataTable, element);\n",
       "          const docLink = document.createElement('div');\n",
       "          docLink.innerHTML = docLinkHtml;\n",
       "          element.appendChild(docLink);\n",
       "        }\n",
       "      </script>\n",
       "    </div>\n",
       "  </div>\n",
       "  "
      ],
      "text/plain": [
       "                     df         sum_sq      mean_sq          F        PR(>F)\n",
       "no_of_sentences     1.0    2941.206017  2941.206017  97.609358  7.810378e-23\n",
       "Residual         5628.0  169585.250288    30.132418        NaN           NaN"
      ]
     },
     "execution_count": 25,
     "metadata": {},
     "output_type": "execute_result"
    }
   ],
   "source": [
    "model5 = ols('target ~ no_of_sentences',data = df_train).fit()\n",
    "p5 = sm.stats.anova_lm(model5,typ=1)\n",
    "p5"
   ]
  },
  {
   "cell_type": "code",
   "execution_count": 26,
   "metadata": {
    "colab": {
     "base_uri": "https://localhost:8080/",
     "height": 112
    },
    "id": "CA0ZLOVhN6ZO",
    "outputId": "f921bfc0-b18d-4c19-edf8-28220e938ea7"
   },
   "outputs": [
    {
     "data": {
      "text/html": [
       "\n",
       "  <div id=\"df-c0c6050e-d41d-4513-afc3-802cf88a84b7\">\n",
       "    <div class=\"colab-df-container\">\n",
       "      <div>\n",
       "<style scoped>\n",
       "    .dataframe tbody tr th:only-of-type {\n",
       "        vertical-align: middle;\n",
       "    }\n",
       "\n",
       "    .dataframe tbody tr th {\n",
       "        vertical-align: top;\n",
       "    }\n",
       "\n",
       "    .dataframe thead th {\n",
       "        text-align: right;\n",
       "    }\n",
       "</style>\n",
       "<table border=\"1\" class=\"dataframe\">\n",
       "  <thead>\n",
       "    <tr style=\"text-align: right;\">\n",
       "      <th></th>\n",
       "      <th>sum_sq</th>\n",
       "      <th>df</th>\n",
       "      <th>F</th>\n",
       "      <th>PR(&gt;F)</th>\n",
       "    </tr>\n",
       "  </thead>\n",
       "  <tbody>\n",
       "    <tr>\n",
       "      <th>no_of_words</th>\n",
       "      <td>2761.600308</td>\n",
       "      <td>1.0</td>\n",
       "      <td>91.551849</td>\n",
       "      <td>1.583821e-21</td>\n",
       "    </tr>\n",
       "    <tr>\n",
       "      <th>Residual</th>\n",
       "      <td>169764.855997</td>\n",
       "      <td>5628.0</td>\n",
       "      <td>NaN</td>\n",
       "      <td>NaN</td>\n",
       "    </tr>\n",
       "  </tbody>\n",
       "</table>\n",
       "</div>\n",
       "      <button class=\"colab-df-convert\" onclick=\"convertToInteractive('df-c0c6050e-d41d-4513-afc3-802cf88a84b7')\"\n",
       "              title=\"Convert this dataframe to an interactive table.\"\n",
       "              style=\"display:none;\">\n",
       "        \n",
       "  <svg xmlns=\"http://www.w3.org/2000/svg\" height=\"24px\"viewBox=\"0 0 24 24\"\n",
       "       width=\"24px\">\n",
       "    <path d=\"M0 0h24v24H0V0z\" fill=\"none\"/>\n",
       "    <path d=\"M18.56 5.44l.94 2.06.94-2.06 2.06-.94-2.06-.94-.94-2.06-.94 2.06-2.06.94zm-11 1L8.5 8.5l.94-2.06 2.06-.94-2.06-.94L8.5 2.5l-.94 2.06-2.06.94zm10 10l.94 2.06.94-2.06 2.06-.94-2.06-.94-.94-2.06-.94 2.06-2.06.94z\"/><path d=\"M17.41 7.96l-1.37-1.37c-.4-.4-.92-.59-1.43-.59-.52 0-1.04.2-1.43.59L10.3 9.45l-7.72 7.72c-.78.78-.78 2.05 0 2.83L4 21.41c.39.39.9.59 1.41.59.51 0 1.02-.2 1.41-.59l7.78-7.78 2.81-2.81c.8-.78.8-2.07 0-2.86zM5.41 20L4 18.59l7.72-7.72 1.47 1.35L5.41 20z\"/>\n",
       "  </svg>\n",
       "      </button>\n",
       "      \n",
       "  <style>\n",
       "    .colab-df-container {\n",
       "      display:flex;\n",
       "      flex-wrap:wrap;\n",
       "      gap: 12px;\n",
       "    }\n",
       "\n",
       "    .colab-df-convert {\n",
       "      background-color: #E8F0FE;\n",
       "      border: none;\n",
       "      border-radius: 50%;\n",
       "      cursor: pointer;\n",
       "      display: none;\n",
       "      fill: #1967D2;\n",
       "      height: 32px;\n",
       "      padding: 0 0 0 0;\n",
       "      width: 32px;\n",
       "    }\n",
       "\n",
       "    .colab-df-convert:hover {\n",
       "      background-color: #E2EBFA;\n",
       "      box-shadow: 0px 1px 2px rgba(60, 64, 67, 0.3), 0px 1px 3px 1px rgba(60, 64, 67, 0.15);\n",
       "      fill: #174EA6;\n",
       "    }\n",
       "\n",
       "    [theme=dark] .colab-df-convert {\n",
       "      background-color: #3B4455;\n",
       "      fill: #D2E3FC;\n",
       "    }\n",
       "\n",
       "    [theme=dark] .colab-df-convert:hover {\n",
       "      background-color: #434B5C;\n",
       "      box-shadow: 0px 1px 3px 1px rgba(0, 0, 0, 0.15);\n",
       "      filter: drop-shadow(0px 1px 2px rgba(0, 0, 0, 0.3));\n",
       "      fill: #FFFFFF;\n",
       "    }\n",
       "  </style>\n",
       "\n",
       "      <script>\n",
       "        const buttonEl =\n",
       "          document.querySelector('#df-c0c6050e-d41d-4513-afc3-802cf88a84b7 button.colab-df-convert');\n",
       "        buttonEl.style.display =\n",
       "          google.colab.kernel.accessAllowed ? 'block' : 'none';\n",
       "\n",
       "        async function convertToInteractive(key) {\n",
       "          const element = document.querySelector('#df-c0c6050e-d41d-4513-afc3-802cf88a84b7');\n",
       "          const dataTable =\n",
       "            await google.colab.kernel.invokeFunction('convertToInteractive',\n",
       "                                                     [key], {});\n",
       "          if (!dataTable) return;\n",
       "\n",
       "          const docLinkHtml = 'Like what you see? Visit the ' +\n",
       "            '<a target=\"_blank\" href=https://colab.research.google.com/notebooks/data_table.ipynb>data table notebook</a>'\n",
       "            + ' to learn more about interactive tables.';\n",
       "          element.innerHTML = '';\n",
       "          dataTable['output_type'] = 'display_data';\n",
       "          await google.colab.output.renderOutput(dataTable, element);\n",
       "          const docLink = document.createElement('div');\n",
       "          docLink.innerHTML = docLinkHtml;\n",
       "          element.appendChild(docLink);\n",
       "        }\n",
       "      </script>\n",
       "    </div>\n",
       "  </div>\n",
       "  "
      ],
      "text/plain": [
       "                    sum_sq      df          F        PR(>F)\n",
       "no_of_words    2761.600308     1.0  91.551849  1.583821e-21\n",
       "Residual     169764.855997  5628.0        NaN           NaN"
      ]
     },
     "execution_count": 26,
     "metadata": {},
     "output_type": "execute_result"
    }
   ],
   "source": [
    "model6 = ols('target ~ no_of_words',data = df_train).fit()\n",
    "p6 = sm.stats.anova_lm(model6,typ=2)\n",
    "p6"
   ]
  },
  {
   "cell_type": "code",
   "execution_count": 27,
   "metadata": {
    "id": "pGD-IfNUQKv5"
   },
   "outputs": [],
   "source": [
    "import numpy as np\n",
    "df_train['log_special'] = df_train['special_characters'].apply(lambda x : np.log(x))"
   ]
  },
  {
   "cell_type": "code",
   "execution_count": 28,
   "metadata": {
    "colab": {
     "base_uri": "https://localhost:8080/",
     "height": 112
    },
    "id": "0EGkmvN8V60j",
    "outputId": "de467108-e8b0-4034-8a76-12c1f5e487ca"
   },
   "outputs": [
    {
     "data": {
      "text/html": [
       "\n",
       "  <div id=\"df-1baa8a51-9c53-4929-8cea-2da4a81dd8e3\">\n",
       "    <div class=\"colab-df-container\">\n",
       "      <div>\n",
       "<style scoped>\n",
       "    .dataframe tbody tr th:only-of-type {\n",
       "        vertical-align: middle;\n",
       "    }\n",
       "\n",
       "    .dataframe tbody tr th {\n",
       "        vertical-align: top;\n",
       "    }\n",
       "\n",
       "    .dataframe thead th {\n",
       "        text-align: right;\n",
       "    }\n",
       "</style>\n",
       "<table border=\"1\" class=\"dataframe\">\n",
       "  <thead>\n",
       "    <tr style=\"text-align: right;\">\n",
       "      <th></th>\n",
       "      <th>sum_sq</th>\n",
       "      <th>df</th>\n",
       "      <th>F</th>\n",
       "      <th>PR(&gt;F)</th>\n",
       "    </tr>\n",
       "  </thead>\n",
       "  <tbody>\n",
       "    <tr>\n",
       "      <th>log_special</th>\n",
       "      <td>6959.545794</td>\n",
       "      <td>1.0</td>\n",
       "      <td>236.570965</td>\n",
       "      <td>2.521592e-52</td>\n",
       "    </tr>\n",
       "    <tr>\n",
       "      <th>Residual</th>\n",
       "      <td>165566.910511</td>\n",
       "      <td>5628.0</td>\n",
       "      <td>NaN</td>\n",
       "      <td>NaN</td>\n",
       "    </tr>\n",
       "  </tbody>\n",
       "</table>\n",
       "</div>\n",
       "      <button class=\"colab-df-convert\" onclick=\"convertToInteractive('df-1baa8a51-9c53-4929-8cea-2da4a81dd8e3')\"\n",
       "              title=\"Convert this dataframe to an interactive table.\"\n",
       "              style=\"display:none;\">\n",
       "        \n",
       "  <svg xmlns=\"http://www.w3.org/2000/svg\" height=\"24px\"viewBox=\"0 0 24 24\"\n",
       "       width=\"24px\">\n",
       "    <path d=\"M0 0h24v24H0V0z\" fill=\"none\"/>\n",
       "    <path d=\"M18.56 5.44l.94 2.06.94-2.06 2.06-.94-2.06-.94-.94-2.06-.94 2.06-2.06.94zm-11 1L8.5 8.5l.94-2.06 2.06-.94-2.06-.94L8.5 2.5l-.94 2.06-2.06.94zm10 10l.94 2.06.94-2.06 2.06-.94-2.06-.94-.94-2.06-.94 2.06-2.06.94z\"/><path d=\"M17.41 7.96l-1.37-1.37c-.4-.4-.92-.59-1.43-.59-.52 0-1.04.2-1.43.59L10.3 9.45l-7.72 7.72c-.78.78-.78 2.05 0 2.83L4 21.41c.39.39.9.59 1.41.59.51 0 1.02-.2 1.41-.59l7.78-7.78 2.81-2.81c.8-.78.8-2.07 0-2.86zM5.41 20L4 18.59l7.72-7.72 1.47 1.35L5.41 20z\"/>\n",
       "  </svg>\n",
       "      </button>\n",
       "      \n",
       "  <style>\n",
       "    .colab-df-container {\n",
       "      display:flex;\n",
       "      flex-wrap:wrap;\n",
       "      gap: 12px;\n",
       "    }\n",
       "\n",
       "    .colab-df-convert {\n",
       "      background-color: #E8F0FE;\n",
       "      border: none;\n",
       "      border-radius: 50%;\n",
       "      cursor: pointer;\n",
       "      display: none;\n",
       "      fill: #1967D2;\n",
       "      height: 32px;\n",
       "      padding: 0 0 0 0;\n",
       "      width: 32px;\n",
       "    }\n",
       "\n",
       "    .colab-df-convert:hover {\n",
       "      background-color: #E2EBFA;\n",
       "      box-shadow: 0px 1px 2px rgba(60, 64, 67, 0.3), 0px 1px 3px 1px rgba(60, 64, 67, 0.15);\n",
       "      fill: #174EA6;\n",
       "    }\n",
       "\n",
       "    [theme=dark] .colab-df-convert {\n",
       "      background-color: #3B4455;\n",
       "      fill: #D2E3FC;\n",
       "    }\n",
       "\n",
       "    [theme=dark] .colab-df-convert:hover {\n",
       "      background-color: #434B5C;\n",
       "      box-shadow: 0px 1px 3px 1px rgba(0, 0, 0, 0.15);\n",
       "      filter: drop-shadow(0px 1px 2px rgba(0, 0, 0, 0.3));\n",
       "      fill: #FFFFFF;\n",
       "    }\n",
       "  </style>\n",
       "\n",
       "      <script>\n",
       "        const buttonEl =\n",
       "          document.querySelector('#df-1baa8a51-9c53-4929-8cea-2da4a81dd8e3 button.colab-df-convert');\n",
       "        buttonEl.style.display =\n",
       "          google.colab.kernel.accessAllowed ? 'block' : 'none';\n",
       "\n",
       "        async function convertToInteractive(key) {\n",
       "          const element = document.querySelector('#df-1baa8a51-9c53-4929-8cea-2da4a81dd8e3');\n",
       "          const dataTable =\n",
       "            await google.colab.kernel.invokeFunction('convertToInteractive',\n",
       "                                                     [key], {});\n",
       "          if (!dataTable) return;\n",
       "\n",
       "          const docLinkHtml = 'Like what you see? Visit the ' +\n",
       "            '<a target=\"_blank\" href=https://colab.research.google.com/notebooks/data_table.ipynb>data table notebook</a>'\n",
       "            + ' to learn more about interactive tables.';\n",
       "          element.innerHTML = '';\n",
       "          dataTable['output_type'] = 'display_data';\n",
       "          await google.colab.output.renderOutput(dataTable, element);\n",
       "          const docLink = document.createElement('div');\n",
       "          docLink.innerHTML = docLinkHtml;\n",
       "          element.appendChild(docLink);\n",
       "        }\n",
       "      </script>\n",
       "    </div>\n",
       "  </div>\n",
       "  "
      ],
      "text/plain": [
       "                    sum_sq      df           F        PR(>F)\n",
       "log_special    6959.545794     1.0  236.570965  2.521592e-52\n",
       "Residual     165566.910511  5628.0         NaN           NaN"
      ]
     },
     "execution_count": 28,
     "metadata": {},
     "output_type": "execute_result"
    }
   ],
   "source": [
    "model7 = ols('target ~ log_special',data = df_train).fit()\n",
    "p7 = sm.stats.anova_lm(model7,typ=2)\n",
    "p7"
   ]
  },
  {
   "cell_type": "markdown",
   "metadata": {
    "id": "aGYtYIx2uaH0"
   },
   "source": [
    "### The p value of all our features is less than 0.05 so our features are good to use"
   ]
  },
  {
   "cell_type": "markdown",
   "metadata": {
    "id": "Wba6e5m1m-Bq"
   },
   "source": [
    "#### lets try to check how many optimal cluster we will get by using these features\n",
    "\n",
    "* Applying K-means algorithm"
   ]
  },
  {
   "cell_type": "code",
   "execution_count": 29,
   "metadata": {
    "id": "GoMRMrQKV8MO"
   },
   "outputs": [],
   "source": [
    "# clu_data = df_train.drop(['Id','target'],axis=1)\n",
    "# clu_data.head(3)"
   ]
  },
  {
   "cell_type": "markdown",
   "metadata": {
    "id": "5JLqbXLDGAxd"
   },
   "source": [
    "### spliting a train data\n",
    "* To test the F1_score we should need a test data but the dataset we have doesn't has a target class so we are spliting our train data"
   ]
  },
  {
   "cell_type": "code",
   "execution_count": 30,
   "metadata": {
    "colab": {
     "base_uri": "https://localhost:8080/"
    },
    "id": "-JmA_51CF_VQ",
    "outputId": "8e17e898-76be-4073-fc91-de777f53a5f6"
   },
   "outputs": [
    {
     "name": "stdout",
     "output_type": "stream",
     "text": [
      "(4785, 14) (4785,)\n",
      "(845, 14) (845,)\n"
     ]
    }
   ],
   "source": [
    "from sklearn.model_selection import train_test_split\n",
    "\n",
    "y = df_train['target'].values\n",
    "x = df_train.drop(['target'],axis=1)\n",
    "x_train1 ,x_test1,y_train1,y_test1 = train_test_split(x,y,test_size=0.15,stratify=y)\n",
    "print(x_train1.shape,y_train1.shape)\n",
    "print(x_test1.shape,y_test1.shape)"
   ]
  },
  {
   "cell_type": "markdown",
   "metadata": {
    "id": "4xlYPkf3shgj"
   },
   "source": [
    "#### Encoding ciphertex : Tfidfvectorizer, Bag_of_words"
   ]
  },
  {
   "cell_type": "code",
   "execution_count": 66,
   "metadata": {
    "colab": {
     "base_uri": "https://localhost:8080/"
    },
    "id": "QBu2-k4qoIv0",
    "outputId": "ec5f0649-6b56-4e2d-991d-b28caf789207"
   },
   "outputs": [
    {
     "name": "stdout",
     "output_type": "stream",
     "text": [
      "(4785, 20000) (845, 20000) (13142, 20000)\n",
      "(4785, 20000) (845, 20000) (13142, 20000)\n"
     ]
    }
   ],
   "source": [
    "tfidf = TfidfVectorizer(min_df = 10,ngram_range=(1,4),max_features=20000)\n",
    "tfidf.fit(x_train1['ciphertext'].values)\n",
    "\n",
    "x_tr_tfidf_cipher    = tfidf.transform(x_train1['ciphertext'].values)\n",
    "x_test1_tfidf_cipher = tfidf.transform(x_test1['ciphertext'].values)\n",
    "x_te_tfidf_cipher    = tfidf.transform(df_test['ciphertext'].values)\n",
    "print(x_tr_tfidf_cipher.shape,x_test1_tfidf_cipher.shape,x_te_tfidf_cipher.shape)\n",
    "############ count vectorizer\n",
    "\n",
    "bow = CountVectorizer(min_df =10 ,ngram_range=(1,4), max_features=20000)\n",
    "bow.fit(x_train1['ciphertext'].values)\n",
    "\n",
    "x_tr_bow_cipher      = bow.transform(x_train1['ciphertext'].values)\n",
    "x_test1_bow_cipher   = bow.transform(x_test1['ciphertext'].values)\n",
    "x_te_bow_cipher      = bow.transform(df_test['ciphertext'].values)\n",
    "print(x_tr_bow_cipher.shape,x_test1_bow_cipher.shape,x_te_bow_cipher.shape)\n"
   ]
  },
  {
   "cell_type": "code",
   "execution_count": 66,
   "metadata": {
    "id": "XZEBJsfLNeRZ"
   },
   "outputs": [],
   "source": []
  },
  {
   "cell_type": "markdown",
   "metadata": {
    "id": "Jkq3Al9ezkyg"
   },
   "source": [
    "### Encoding numerical features"
   ]
  },
  {
   "cell_type": "code",
   "execution_count": 67,
   "metadata": {
    "id": "W85BZokCzjX2"
   },
   "outputs": [],
   "source": [
    "def numerical_norm(col,normalizer):\n",
    "  train = normalizer.fit_transform(x_train1[col].values.reshape(1,-1)).reshape(-1,1)\n",
    "  test  = normalizer.fit_transform(df_test[col].values.reshape(1,-1)).reshape(-1,1)\n",
    "  test1 = normalizer.fit_transform(x_test1[col].values.reshape(1,-1)).reshape(-1,1) # splited test data\n",
    "\n",
    "  return train,test,test1\n",
    "\n",
    "normalizer = Normalizer() #Normalizer\n",
    "x_tr_length ,x_te_length ,x_test_length           = numerical_norm('length',normalizer)\n",
    "x_tr_len_digits,x_te_len_digits,x_test_len_digits = numerical_norm('len_of_digits',normalizer)\n",
    "x_tr_spec_char ,x_te_spec_char ,x_test_spec_char  = numerical_norm('special_characters',normalizer)\n",
    "x_tr_upper_case,x_te_upper_case,x_test_upper_case = numerical_norm('upper_case',normalizer)\n",
    "x_tr_small_case,x_te_small_case,x_test_small_case = numerical_norm('small_case',normalizer)\n",
    "x_tr_sentences ,x_te_sentences ,x_test_sentences  = numerical_norm('no_of_sentences',normalizer)\n",
    "x_tr_words     ,x_te_words     ,x_test_words      = numerical_norm('no_of_words',normalizer)\n",
    "x_tr_per_length,x_te_per_length,x_test_per_length = numerical_norm('per_length',normalizer)\n",
    "x_tr_per_lod   ,x_te_per_lod   ,x_test_per_lod    = numerical_norm('per_len_of_digits',normalizer)\n",
    "x_tr_per_sent , x_te_per_sent  ,x_test_per_sent   = numerical_norm('per_no_of_sentences',normalizer)"
   ]
  },
  {
   "cell_type": "code",
   "execution_count": 68,
   "metadata": {
    "id": "-G3CTeXtzjZc"
   },
   "outputs": [],
   "source": [
    "#combining all the features\n",
    "\n",
    "x_tr   = hstack((x_tr_bow_cipher,x_tr_tfidf_cipher,x_tr_length,x_tr_len_digits,x_tr_spec_char,x_tr_upper_case,x_tr_small_case,x_tr_sentences,x_tr_words,x_tr_per_length,\n",
    "                x_tr_per_lod,x_tr_per_sent)).tocsr()\n",
    "x_te   = hstack((x_te_bow_cipher,x_te_tfidf_cipher,x_te_length,x_te_len_digits,x_te_spec_char,x_te_upper_case,x_te_small_case,x_te_sentences,x_te_words,x_te_per_length,\n",
    "                x_te_per_lod,x_te_per_sent)).tocsr()\n",
    "x_test = hstack((x_test1_bow_cipher,x_test1_tfidf_cipher,x_test_length,x_test_len_digits,x_test_spec_char,x_test_upper_case,x_test_small_case,x_test_sentences,x_test_words,x_test_per_length,\n",
    "                x_test_per_lod,x_test_per_sent)).tocsr()\n"
   ]
  },
  {
   "cell_type": "markdown",
   "metadata": {
    "id": "FxdXvoLS72lQ"
   },
   "source": [
    "## K_means clustering"
   ]
  },
  {
   "cell_type": "code",
   "execution_count": 34,
   "metadata": {
    "id": "9XUsTF8DzjcZ"
   },
   "outputs": [],
   "source": [
    "# https://www.analyticsvidhya.com/blog/2021/05/k-mean-getting-the-optimal-number-of-clusters/#:~:text=1.-,Elbow%20Curve%20Method,-The%20elbow%20method\n",
    "# referred above page to use elbow method to get optimal number of clusters\n",
    "from sklearn.cluster import KMeans\n",
    "\n",
    "sum_sqr_dist = []\n",
    "k = [5,10,15,20,30,40,50,60]\n",
    "for i in k:\n",
    "  kmeans = KMeans(n_clusters=i)\n",
    "  kmeans.fit(x_tr)\n",
    "  sum_sqr_dist.append(kmeans.inertia_)\n",
    "  "
   ]
  },
  {
   "cell_type": "code",
   "execution_count": 35,
   "metadata": {
    "colab": {
     "base_uri": "https://localhost:8080/",
     "height": 421
    },
    "id": "BDJfEW2fzjfP",
    "outputId": "483202f0-de3f-438b-deae-c27bc2b1341e"
   },
   "outputs": [
    {
     "data": {
      "text/plain": [
       "Text(0.5, 1.0, 'get optimal_number_of_clusters')"
      ]
     },
     "execution_count": 35,
     "metadata": {},
     "output_type": "execute_result"
    },
    {
     "data": {
      "image/png": "[encoded data removed]",
      "text/plain": [
       "<Figure size 432x432 with 1 Axes>"
      ]
     },
     "metadata": {
      "needs_background": "light"
     },
     "output_type": "display_data"
    }
   ],
   "source": [
    "import matplotlib.pyplot as plt\n",
    "plt.figure(figsize=(6,6))\n",
    "plt.plot(k,sum_sqr_dist)\n",
    "plt.xlabel('clusters')\n",
    "plt.ylabel('sum_sqr_dist')\n",
    "plt.title('get optimal_number_of_clusters')"
   ]
  },
  {
   "cell_type": "markdown",
   "metadata": {
    "id": "bol3WQNaBFCY"
   },
   "source": [
    "* sum_of_squared_distance was suddenly falling from k=30"
   ]
  },
  {
   "cell_type": "code",
   "execution_count": 36,
   "metadata": {
    "id": "q52ijO6x_dlR"
   },
   "outputs": [],
   "source": [
    "optimal_number_clusters = 30"
   ]
  },
  {
   "cell_type": "code",
   "execution_count": 37,
   "metadata": {
    "colab": {
     "base_uri": "https://localhost:8080/"
    },
    "id": "a6ejA4T__dm0",
    "outputId": "72fad1a0-be6c-41a2-d7aa-6c439d4d9173"
   },
   "outputs": [
    {
     "data": {
      "text/plain": [
       "KMeans(n_clusters=30)"
      ]
     },
     "execution_count": 37,
     "metadata": {},
     "output_type": "execute_result"
    }
   ],
   "source": [
    "kmeans1 = KMeans(n_clusters=optimal_number_clusters) #apply k-means \n",
    "kmeans1.fit(x_tr)"
   ]
  },
  {
   "cell_type": "code",
   "execution_count": 38,
   "metadata": {
    "id": "4TlyO6CI_dq9"
   },
   "outputs": [],
   "source": [
    "# using clustering Assigment\n",
    "from sklearn.manifold import TSNE \n",
    "tsne = TSNE\n",
    "\n",
    "transform = tsne(n_components=2,perplexity=50) \n",
    "x_tr_2d   = transform.fit_transform(x_tr)  #applt tsne (dimensionality redcution)"
   ]
  },
  {
   "cell_type": "code",
   "execution_count": 39,
   "metadata": {
    "colab": {
     "base_uri": "https://localhost:8080/",
     "height": 592
    },
    "id": "RBV0O6V__1wg",
    "outputId": "e0d3a758-c8cc-4f59-b498-44f5fc246fbe"
   },
   "outputs": [
    {
     "data": {
      "image/png": "[encoded data removed]",
      "text/plain": [
       "<Figure size 1080x720 with 1 Axes>"
      ]
     },
     "metadata": {
      "needs_background": "light"
     },
     "output_type": "display_data"
    }
   ],
   "source": [
    "plt.figure(figsize=(15,10))\n",
    "plt.axes().set(aspect = \"equal\")\n",
    "plt.scatter(x_tr_2d[:,0],\n",
    "            x_tr_2d[:,1],\n",
    "            c=kmeans1.labels_.astype(float),alpha=0.3)\n",
    "plt.show()"
   ]
  },
  {
   "cell_type": "code",
   "execution_count": 40,
   "metadata": {
    "id": "oX64n93HDJO1"
   },
   "outputs": [],
   "source": [
    "from sklearn.naive_bayes import MultinomialNB\n",
    "from sklearn.model_selection import GridSearchCV\n",
    "from sklearn.linear_model import LogisticRegression\n",
    "from sklearn.metrics import f1_score\n",
    "from sklearn.neighbors import KNeighborsClassifier\n",
    "from sklearn.svm import SVC"
   ]
  },
  {
   "cell_type": "markdown",
   "metadata": {
    "id": "-8jFtyppc6Ei"
   },
   "source": [
    "### apply logistic regression"
   ]
  },
  {
   "cell_type": "code",
   "execution_count": 41,
   "metadata": {
    "colab": {
     "base_uri": "https://localhost:8080/"
    },
    "id": "P7DfAnqoc42d",
    "outputId": "853ad8d4-c31f-4c6f-91d3-8aa2e2f7f5e5"
   },
   "outputs": [
    {
     "name": "stdout",
     "output_type": "stream",
     "text": [
      "0.6703979666283401\n"
     ]
    }
   ],
   "source": [
    "#logistic regression\n",
    "model1 = LogisticRegression(class_weight='balanced',multi_class='auto',n_jobs=-1)\n",
    "model1.fit(x_tr,y_train1)\n",
    "y_test_pred1 = model1.predict(x_test)\n",
    "f1score_logr = f1_score(y_test_pred1,y_test1,average='macro')\n",
    "print(f1score_logr)"
   ]
  },
  {
   "cell_type": "markdown",
   "metadata": {
    "id": "ZtVaHD9pDKpC"
   },
   "source": [
    "### Apply NaiveBayes"
   ]
  },
  {
   "cell_type": "markdown",
   "metadata": {
    "id": "4Y2tk2FGVJwA"
   },
   "source": [
    "* finding the best hyperparameter alpha using gridsearchcv"
   ]
  },
  {
   "cell_type": "code",
   "execution_count": 69,
   "metadata": {
    "colab": {
     "base_uri": "https://localhost:8080/"
    },
    "id": "IMO-GNtmDJV_",
    "outputId": "a624a4ab-8327-42f9-fb16-591c990ea4a8"
   },
   "outputs": [
    {
     "data": {
      "text/plain": [
       "GridSearchCV(cv=3, estimator=MultinomialNB(),\n",
       "             param_grid={'alpha': [1e-05, 0.0005, 0.0001, 0.005, 0.001, 0.05,\n",
       "                                   0.01, 0.5, 0.1, 1, 5, 10, 50, 100]})"
      ]
     },
     "execution_count": 69,
     "metadata": {},
     "output_type": "execute_result"
    }
   ],
   "source": [
    "#hyperparameter tuning for Naive Bayes\n",
    "NB      = MultinomialNB()\n",
    "param_grid ={'alpha' : [0.00001,0.0005,0.0001,0.005,0.001,0.05,0.01,0.5,0.1,1,5,10,50,100]} # sample hyperparameters\n",
    "gridscv    = GridSearchCV(NB,param_grid,cv=3)\n",
    "gridscv.fit(x_tr,y_train1)"
   ]
  },
  {
   "cell_type": "code",
   "execution_count": 70,
   "metadata": {
    "colab": {
     "base_uri": "https://localhost:8080/"
    },
    "id": "kHof23qIDODL",
    "outputId": "f5081b32-7d14-4c8e-d637-f4e70622100f"
   },
   "outputs": [
    {
     "name": "stdout",
     "output_type": "stream",
     "text": [
      "{'alpha': 0.1}\n"
     ]
    }
   ],
   "source": [
    "print(gridscv.best_params_)"
   ]
  },
  {
   "cell_type": "code",
   "execution_count": 71,
   "metadata": {
    "colab": {
     "base_uri": "https://localhost:8080/"
    },
    "id": "eURUzoZ2ImIg",
    "outputId": "3e399ac7-0dce-4199-d86b-be7dee27bbf5"
   },
   "outputs": [
    {
     "name": "stdout",
     "output_type": "stream",
     "text": [
      "0.6987641147801491\n"
     ]
    }
   ],
   "source": [
    "model2 = MultinomialNB(alpha=0.1) #naivebayes with best hyperparameter\n",
    "model2.fit(x_tr,y_train1) \n",
    "y_test_pred2 = model2.predict(x_test)\n",
    "f1score_nb = f1_score(y_test_pred2,y_test1,average='macro')\n",
    "print(f1score_nb)"
   ]
  },
  {
   "cell_type": "code",
   "execution_count": 45,
   "metadata": {
    "id": "junDWnWCYxGc"
   },
   "outputs": [],
   "source": [
    "# from sklearn.metrics import confusion_matrix\n",
    "# import seaborn as sns\n",
    "# conf_matrix = confusion_matrix(y_test1,y_test_pred2)\n",
    "# plt.figure(figsize=(15,15))\n",
    "# sns.heatmap(conf_matrix,annot=True,fmt=\"d\",cmap=\"Blues\")"
   ]
  },
  {
   "cell_type": "markdown",
   "metadata": {
    "id": "evfbY5iul2XZ"
   },
   "source": [
    "### Apply K-nearest neigbours"
   ]
  },
  {
   "cell_type": "code",
   "execution_count": 46,
   "metadata": {
    "id": "974n0ejKtGrN"
   },
   "outputs": [],
   "source": [
    "n_neig = [5,10,15,30,50,100]\n"
   ]
  },
  {
   "cell_type": "code",
   "execution_count": 47,
   "metadata": {
    "colab": {
     "base_uri": "https://localhost:8080/"
    },
    "id": "QjupkNstZzcm",
    "outputId": "cdd7d909-9c96-45be-cb7c-3150f8e0894a"
   },
   "outputs": [
    {
     "data": {
      "text/plain": [
       "GridSearchCV(cv=3, estimator=KNeighborsClassifier(),\n",
       "             param_grid={'n_neighbors': [5, 10, 15, 30, 50, 100]})"
      ]
     },
     "execution_count": 47,
     "metadata": {},
     "output_type": "execute_result"
    }
   ],
   "source": [
    "# hyperparameter tuning for KNN\n",
    "knn = KNeighborsClassifier()\n",
    "param_grid1 = {'n_neighbors':n_neig}\n",
    "gridscv_knn = GridSearchCV(knn,param_grid1,cv=3)\n",
    "gridscv_knn.fit(x_tr,y_train1)"
   ]
  },
  {
   "cell_type": "code",
   "execution_count": 48,
   "metadata": {
    "colab": {
     "base_uri": "https://localhost:8080/"
    },
    "id": "XJOTRE1XEcA-",
    "outputId": "140cff4d-df72-461d-f1a8-26854ab5cb0f"
   },
   "outputs": [
    {
     "data": {
      "text/plain": [
       "{'n_neighbors': 5}"
      ]
     },
     "execution_count": 48,
     "metadata": {},
     "output_type": "execute_result"
    }
   ],
   "source": [
    "gridscv_knn.best_params_"
   ]
  },
  {
   "cell_type": "code",
   "execution_count": 49,
   "metadata": {
    "colab": {
     "base_uri": "https://localhost:8080/"
    },
    "id": "RIdtSz-gvAT0",
    "outputId": "db670397-900c-4663-97bb-8a01fa87764b"
   },
   "outputs": [
    {
     "name": "stdout",
     "output_type": "stream",
     "text": [
      "0.35101660343956115\n"
     ]
    }
   ],
   "source": [
    "model3 = KNeighborsClassifier(n_neighbors=5,weights='distance') # knn classifier with best hyperparameter\n",
    "model3.fit(x_tr,y_train1)\n",
    "y_test_pred3 = model3.predict(x_test)\n",
    "f1score_knn = f1_score(y_test_pred3,y_test1,average='macro')\n",
    "print(f1score_knn)"
   ]
  },
  {
   "cell_type": "markdown",
   "metadata": {
    "id": "3nwnFr7vPPBX"
   },
   "source": [
    "### apply support vector machines"
   ]
  },
  {
   "cell_type": "code",
   "execution_count": 50,
   "metadata": {
    "colab": {
     "base_uri": "https://localhost:8080/"
    },
    "id": "UXqzFKzmAiJH",
    "outputId": "a80fdc47-0474-4d7f-85b4-3ce753c1d997"
   },
   "outputs": [
    {
     "data": {
      "text/plain": [
       "GridSearchCV(cv=3, estimator=SVC(), n_jobs=-1,\n",
       "             param_grid={'C': [0.1, 1, 10, 50, 100]})"
      ]
     },
     "execution_count": 50,
     "metadata": {},
     "output_type": "execute_result"
    }
   ],
   "source": [
    "# hyper parameter tuning for SVM\n",
    "svm = SVC()\n",
    "param_grid = {'C':[0.1,1,10,50,100]} # sample hyperparameters\n",
    "gridscv_svm = GridSearchCV(svm,param_grid,cv=3,n_jobs=-1) # gridsearch\n",
    "gridscv_svm.fit(x_tr,y_train1)"
   ]
  },
  {
   "cell_type": "code",
   "execution_count": 51,
   "metadata": {
    "colab": {
     "base_uri": "https://localhost:8080/"
    },
    "id": "37UJLiNERE9X",
    "outputId": "ae4a4915-1dd1-422d-9264-c6d8a7b64ed7"
   },
   "outputs": [
    {
     "data": {
      "text/plain": [
       "{'C': 10}"
      ]
     },
     "execution_count": 51,
     "metadata": {},
     "output_type": "execute_result"
    }
   ],
   "source": [
    "gridscv_svm.best_params_"
   ]
  },
  {
   "cell_type": "code",
   "execution_count": 52,
   "metadata": {
    "id": "CvJJUnTGRJ2R"
   },
   "outputs": [],
   "source": [
    "model4 = SVC(C=10) #applying SVC with best hyperparameter\n",
    "model4.fit(x_tr,y_train1)\n",
    "y_test_pred4 = model4.predict(x_test)\n",
    "f1score_svc = f1_score(y_test_pred4,y_test1,average='macro')"
   ]
  },
  {
   "cell_type": "code",
   "execution_count": 53,
   "metadata": {
    "colab": {
     "base_uri": "https://localhost:8080/"
    },
    "id": "grdl-qwJjOfy",
    "outputId": "12bc76c2-b634-4b6a-f22e-7233db6dc399"
   },
   "outputs": [
    {
     "name": "stdout",
     "output_type": "stream",
     "text": [
      "0.5872655352076552\n"
     ]
    }
   ],
   "source": [
    "print(f1score_svc)"
   ]
  },
  {
   "cell_type": "markdown",
   "metadata": {
    "id": "FQ43zlvxSO3H"
   },
   "source": [
    "### Apply Decision Tree"
   ]
  },
  {
   "cell_type": "code",
   "execution_count": 54,
   "metadata": {
    "colab": {
     "base_uri": "https://localhost:8080/"
    },
    "id": "ZknH0xnij3FY",
    "outputId": "14c881a8-b0ec-487b-9b92-6943c89117d8"
   },
   "outputs": [
    {
     "data": {
      "text/plain": [
       "{'max_depth': 200, 'min_samples_split': 100}"
      ]
     },
     "execution_count": 54,
     "metadata": {},
     "output_type": "execute_result"
    }
   ],
   "source": [
    "# Hyperparameter tuning for decisiontree classifier\n",
    "from sklearn.tree import DecisionTreeClassifier\n",
    "\n",
    "dt =DecisionTreeClassifier(class_weight='balanced')\n",
    "param_grid = {'max_depth':[1,5,10,50,100,150,200],'min_samples_split':[5,10,100,500]} #sample hyperparameters to get best\n",
    "gridscv_dt = GridSearchCV(dt,param_grid,cv=3)\n",
    "gridscv_dt.fit(x_tr,y_train1)\n",
    "gridscv_dt.best_params_"
   ]
  },
  {
   "cell_type": "code",
   "execution_count": 55,
   "metadata": {
    "colab": {
     "base_uri": "https://localhost:8080/"
    },
    "id": "_cqkthnySi6k",
    "outputId": "0b2a467b-1e73-46ad-9a6a-2eedb7dac3d0"
   },
   "outputs": [
    {
     "name": "stdout",
     "output_type": "stream",
     "text": [
      "0.35235567288544223\n"
     ]
    }
   ],
   "source": [
    "model5 = DecisionTreeClassifier(class_weight='balanced',max_depth=200,min_samples_split=100) #decision tree classifier with best hyperparameters\n",
    "model5.fit(x_tr,y_train1)\n",
    "y_test_pred5 = model5.predict(x_test)\n",
    "f1score_dt =f1_score(y_test_pred5,y_test1,average='macro')\n",
    "print(f1score_dt)"
   ]
  },
  {
   "cell_type": "markdown",
   "metadata": {
    "id": "cxhA88mYcML4"
   },
   "source": [
    "### random forest"
   ]
  },
  {
   "cell_type": "code",
   "execution_count": 56,
   "metadata": {
    "colab": {
     "base_uri": "https://localhost:8080/"
    },
    "id": "ZGyeV4dvZFVd",
    "outputId": "fc4be920-bed0-4191-b674-9d05e3d975c0"
   },
   "outputs": [
    {
     "data": {
      "text/plain": [
       "{'max_depth': 200, 'min_samples_split': 100, 'n_estimators': 100}"
      ]
     },
     "execution_count": 56,
     "metadata": {},
     "output_type": "execute_result"
    }
   ],
   "source": [
    "from sklearn.ensemble import RandomForestClassifier\n",
    "\n",
    "# Hyperparameter tuning for random forest classifier\n",
    "RFC = RandomForestClassifier(class_weight='balanced',bootstrap=True,oob_score=True)\n",
    "param_grid = {'n_estimators':[10,20,40,50,100],'max_depth':[1,5,10,50,100,150,200],'min_samples_split':[5,10,100,500]} #sample hyperparameters\n",
    "gridscv_rfc = GridSearchCV(RFC,param_grid,cv=3)\n",
    "gridscv_rfc.fit(x_tr,y_train1)\n",
    "gridscv_rfc.best_params_ "
   ]
  },
  {
   "cell_type": "code",
   "execution_count": 57,
   "metadata": {
    "colab": {
     "base_uri": "https://localhost:8080/"
    },
    "id": "o7HvpueOeVwD",
    "outputId": "a6f11824-18d1-4a6c-bc72-c27016a074f0"
   },
   "outputs": [
    {
     "data": {
      "text/plain": [
       "0.5984295209929013"
      ]
     },
     "execution_count": 57,
     "metadata": {},
     "output_type": "execute_result"
    }
   ],
   "source": [
    "model6 = RandomForestClassifier(n_estimators=100,max_depth=150,min_samples_split=10,class_weight='balanced',bootstrap=True) #random forest classifier with best hyperparameters\n",
    "model6.fit(x_tr,y_train1)\n",
    "y_test_pred6 = model6.predict(x_test)\n",
    "f1score_xgb = f1_score(y_test_pred6,y_test1,average='macro')\n",
    "f1score_xgb"
   ]
  },
  {
   "cell_type": "code",
   "execution_count": 59,
   "metadata": {
    "colab": {
     "base_uri": "https://localhost:8080/"
    },
    "id": "L12rv7rOlf7L",
    "outputId": "4af02ae3-581e-4825-cfd0-0178019b9c9c"
   },
   "outputs": [
    {
     "name": "stdout",
     "output_type": "stream",
     "text": [
      "+----------+--------------------+---------------------------------------------------------+----------------+\n",
      "| ModelNo. |       Model        |                     Hyperparameters                     | Macro_F1_score |\n",
      "+----------+--------------------+---------------------------------------------------------+----------------+\n",
      "|    1     | LogisticRegression |                                                         |     0.670      |\n",
      "+----------+--------------------+---------------------------------------------------------+----------------+\n",
      "|    2     |    naive_bayes     |                       alpha : 0.1                       |     0.698      |\n",
      "+----------+--------------------+---------------------------------------------------------+----------------+\n",
      "|    3     |  KNearestNeigbors  |                     n_neighbors : 5                     |     0.351      |\n",
      "+----------+--------------------+---------------------------------------------------------+----------------+\n",
      "|    4     |        SVM         |                          C : 50                         |     0.587      |\n",
      "+----------+--------------------+---------------------------------------------------------+----------------+\n",
      "|    5     |    DecisionTree    |          max_depth: 200 ,min_samples_split: 100         |     0.352      |\n",
      "+----------+--------------------+---------------------------------------------------------+----------------+\n",
      "|    6     |    RandomForest    | max_depth: 0.1, min_samples_split:10, n_estimators: 100 |     0.598      |\n",
      "+----------+--------------------+---------------------------------------------------------+----------------+\n"
     ]
    }
   ],
   "source": [
    "from prettytable import PrettyTable , ALL\n",
    "\n",
    "table = PrettyTable([\"ModelNo.\",\"Model\",\"Hyperparameters\",\"Macro_F1_score\"])\n",
    "table.add_row(['1','LogisticRegression','','0.670'])\n",
    "table.add_row(['2','naive_bayes','alpha : 0.1','0.698'])\n",
    "table.add_row(['3','KNearestNeigbors','n_neighbors : 5','0.351'])\n",
    "table.add_row(['4','SVM','C : 50','0.587'])\n",
    "table.add_row(['5','DecisionTree','max_depth: 200 ,min_samples_split: 100','0.352'])\n",
    "table.add_row(['6','RandomForest','max_depth: 0.1, min_samples_split:10, n_estimators: 100','0.598'])\n",
    "table.hrules = ALL\n",
    "\n",
    "\n",
    "print(table)\n"
   ]
  },
  {
   "cell_type": "code",
   "execution_count": 58,
   "metadata": {
    "id": "zm3aMiFotFeB"
   },
   "outputs": [],
   "source": []
  }
 ],
 "metadata": {
  "accelerator": "GPU",
  "colab": {
   "collapsed_sections": [],
   "name": "ML_End_to_End_Ciphertext20Newsgroups_Models.ipynb",
   "provenance": []
  },
  "gpuClass": "standard",
  "kernelspec": {
   "display_name": "Python 3 (ipykernel)",
   "language": "python",
   "name": "python3"
  },
  "language_info": {
   "codemirror_mode": {
    "name": "ipython",
    "version": 3
   },
   "file_extension": ".py",
   "mimetype": "text/x-python",
   "name": "python",
   "nbconvert_exporter": "python",
   "pygments_lexer": "ipython3",
   "version": "3.7.11"
  }
 },
 "nbformat": 4,
 "nbformat_minor": 1
}
